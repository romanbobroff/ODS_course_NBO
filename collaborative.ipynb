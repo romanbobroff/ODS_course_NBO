{
 "cells": [
  {
   "cell_type": "code",
   "execution_count": 7,
   "metadata": {},
   "outputs": [
    {
     "name": "stdout",
     "output_type": "stream",
     "text": [
      "The autoreload extension is already loaded. To reload it, use:\n",
      "  %reload_ext autoreload\n"
     ]
    }
   ],
   "source": [
    "%load_ext autoreload\n",
    "%autoreload 2\n",
    "\n",
    "import pandas as pd\n",
    "import warnings\n",
    "\n",
    "from lib.pipelines import collab_pipeline\n",
    "\n",
    "warnings.filterwarnings(\"ignore\")\n",
    "pd.set_option('display.max_columns', 100)"
   ]
  },
  {
   "cell_type": "markdown",
   "metadata": {},
   "source": [
    "## Таргет - item_id"
   ]
  },
  {
   "attachments": {},
   "cell_type": "markdown",
   "metadata": {},
   "source": [
    "### 2 months"
   ]
  },
  {
   "cell_type": "code",
   "execution_count": 3,
   "metadata": {},
   "outputs": [
    {
     "name": "stdout",
     "output_type": "stream",
     "text": [
      "{'recall@1': 0.003952867387039843, 'recall@1_users': 0.008525510444349902, 'users_hitted@1': 0.042305173542894564, 'recall@5': 0.013383982522093413, 'recall@5_users': 0.022510466277917016, 'users_hitted@5': 0.10224841737611876, 'recall@10': 0.022090131937200254, 'recall@10_users': 0.03223593212147513, 'users_hitted@10': 0.14398602925125517, 'recall@20': 0.035109991405383775, 'recall@20_users': 0.0435221061069877, 'users_hitted@20': 0.1943243833224187}\n",
      "{'MAE': Timedelta('77 days 10:42:11.705815981')}\n"
     ]
    }
   ],
   "source": [
    "predicted, durs = collab_pipeline(k_top=50, target='item_id', model_name='tfidf', test_months=2)"
   ]
  },
  {
   "cell_type": "code",
   "execution_count": 4,
   "metadata": {},
   "outputs": [
    {
     "name": "stdout",
     "output_type": "stream",
     "text": [
      "{'recall@1': 0.003273827097315987, 'recall@1_users': 0.008275203944272525, 'users_hitted@1': 0.03628028814669286, 'recall@5': 0.01061533515722899, 'recall@5_users': 0.020953989051572544, 'users_hitted@5': 0.08330058939096267, 'recall@10': 0.017166269739734025, 'recall@10_users': 0.03002149490042602, 'users_hitted@10': 0.11752892381576074, 'recall@20': 0.026866376680378688, 'recall@20_users': 0.040263888834969216, 'users_hitted@20': 0.1603580004365859}\n",
      "{'MAE': Timedelta('77 days 06:31:01.317183952')}\n"
     ]
    }
   ],
   "source": [
    "predicted, durs = collab_pipeline(k_top=50, target='item_id', model_name='bm25', test_months=2)"
   ]
  },
  {
   "cell_type": "code",
   "execution_count": 5,
   "metadata": {},
   "outputs": [
    {
     "name": "stdout",
     "output_type": "stream",
     "text": [
      "{'recall@1': 0.0037429225631638685, 'recall@1_users': 0.008244061561284231, 'users_hitted@1': 0.04077712289893037, 'recall@5': 0.012964092874341462, 'recall@5_users': 0.021707401451152273, 'users_hitted@5': 0.1019428072473259, 'recall@10': 0.02049914381876513, 'recall@10_users': 0.029453174037592376, 'users_hitted@10': 0.13730626500764026, 'recall@20': 0.03251520459779164, 'recall@20_users': 0.040287596459034306, 'users_hitted@20': 0.18450120061122025}\n",
      "{'MAE': Timedelta('76 days 06:49:12.290216196')}\n"
     ]
    }
   ],
   "source": [
    "predicted, durs = collab_pipeline(k_top=50, target='item_id', model_name='cosine', test_months=2)"
   ]
  },
  {
   "attachments": {},
   "cell_type": "markdown",
   "metadata": {},
   "source": [
    "### 6 months"
   ]
  },
  {
   "cell_type": "code",
   "execution_count": 6,
   "metadata": {},
   "outputs": [
    {
     "name": "stdout",
     "output_type": "stream",
     "text": [
      "{'recall@1': 0.0027552863808273658, 'recall@1_users': 0.004842064305528059, 'users_hitted@1': 0.0389800768496102, 'recall@5': 0.009646751491363736, 'recall@5_users': 0.013133239751123682, 'users_hitted@5': 0.0931301779090687, 'recall@10': 0.016461319851491796, 'recall@10_users': 0.01877820347788389, 'users_hitted@10': 0.13333185260866667, 'recall@20': 0.027134805418729882, 'recall@20_users': 0.026736255745078045, 'users_hitted@20': 0.18039668613819604}\n",
      "{'MAE': Timedelta('138 days 06:59:14.270959146')}\n"
     ]
    }
   ],
   "source": [
    "predicted, durs = collab_pipeline(k_top=50, target='item_id', model_name='tfidf', test_months=6)"
   ]
  },
  {
   "cell_type": "code",
   "execution_count": 7,
   "metadata": {},
   "outputs": [
    {
     "name": "stdout",
     "output_type": "stream",
     "text": [
      "{'recall@1': 0.0021379462719155738, 'recall@1_users': 0.00427351158872534, 'users_hitted@1': 0.030362259289696377, 'recall@5': 0.007147065576682306, 'recall@5_users': 0.011503554406826566, 'users_hitted@5': 0.07194100792928058, 'recall@10': 0.011603827941896383, 'recall@10_users': 0.01661036672833954, 'users_hitted@10': 0.10121493458898785, 'recall@20': 0.01862417633832837, 'recall@20_users': 0.02318293280555735, 'users_hitted@20': 0.1409279701485907}\n",
      "{'MAE': Timedelta('141 days 14:08:12.459207948')}\n"
     ]
    }
   ],
   "source": [
    "predicted, durs = collab_pipeline(k_top=50, target='item_id', model_name='bm25', test_months=6)"
   ]
  },
  {
   "cell_type": "code",
   "execution_count": 8,
   "metadata": {},
   "outputs": [
    {
     "name": "stdout",
     "output_type": "stream",
     "text": [
      "{'recall@1': 0.0025798318235576985, 'recall@1_users': 0.004639828368028924, 'users_hitted@1': 0.03684783332963152, 'recall@5': 0.00915612856270226, 'recall@5_users': 0.012373278539703937, 'users_hitted@5': 0.09039824089909601, 'recall@10': 0.015015444333251022, 'recall@10_users': 0.017261920916140573, 'users_hitted@10': 0.12451413721875486, 'recall@20': 0.02479757742744629, 'recall@20_users': 0.024360109074553205, 'users_hitted@20': 0.16829176198831708}\n",
      "{'MAE': Timedelta('137 days 10:45:47.209691970')}\n"
     ]
    }
   ],
   "source": [
    "predicted, durs = collab_pipeline(k_top=50, target='item_id', model_name='cosine', test_months=6)"
   ]
  },
  {
   "cell_type": "markdown",
   "metadata": {},
   "source": [
    "## Таргет - category_id"
   ]
  },
  {
   "attachments": {},
   "cell_type": "markdown",
   "metadata": {},
   "source": [
    "### 2 months"
   ]
  },
  {
   "cell_type": "code",
   "execution_count": 9,
   "metadata": {},
   "outputs": [
    {
     "name": "stdout",
     "output_type": "stream",
     "text": [
      "{'recall@1': 0.032459438003949584, 'recall@1_users': 0.030760493528021335, 'users_hitted@1': 0.15638506876227898, 'recall@5': 0.0979983073198575, 'recall@5_users': 0.08523648988381764, 'users_hitted@5': 0.3282252783235102, 'recall@10': 0.15310882358730096, 'recall@10_users': 0.12734428530917838, 'users_hitted@10': 0.41903514516481116, 'recall@20': 0.23125422349938657, 'recall@20_users': 0.18556723905434447, 'users_hitted@20': 0.49757694826457105}\n",
      "{'MAE': Timedelta('84 days 22:21:23.316225129')}\n"
     ]
    }
   ],
   "source": [
    "predicted, durs = collab_pipeline(k_top=50, target='category_id', model_name='tfidf', test_months=2)"
   ]
  },
  {
   "cell_type": "code",
   "execution_count": 10,
   "metadata": {},
   "outputs": [
    {
     "name": "stdout",
     "output_type": "stream",
     "text": [
      "{'recall@1': 0.03489020541788861, 'recall@1_users': 0.03354887662239965, 'users_hitted@1': 0.15922287710106964, 'recall@5': 0.1018954081130553, 'recall@5_users': 0.09255086930316216, 'users_hitted@5': 0.34215236847849817, 'recall@10': 0.1563596879695055, 'recall@10_users': 0.13609269836209031, 'users_hitted@10': 0.4291202794149749, 'recall@20': 0.23971434382401374, 'recall@20_users': 0.1970092383214905, 'users_hitted@20': 0.5103252564942152}\n",
      "{'MAE': Timedelta('84 days 21:38:08.707352235')}\n"
     ]
    }
   ],
   "source": [
    "predicted, durs = collab_pipeline(k_top=50, target='category_id', model_name='bm25', test_months=2)"
   ]
  },
  {
   "cell_type": "code",
   "execution_count": 11,
   "metadata": {},
   "outputs": [
    {
     "name": "stdout",
     "output_type": "stream",
     "text": [
      "{'recall@1': 0.028696833113547347, 'recall@1_users': 0.027369616469066903, 'users_hitted@1': 0.15311067452521285, 'recall@5': 0.08497188707592786, 'recall@5_users': 0.07373677735113472, 'users_hitted@5': 0.31255184457542023, 'recall@10': 0.13151731060680616, 'recall@10_users': 0.1104838696214965, 'users_hitted@10': 0.39690024012224406, 'recall@20': 0.2087146784235768, 'recall@20_users': 0.1696081015612328, 'users_hitted@20': 0.48373717528923815}\n",
      "{'MAE': Timedelta('84 days 23:29:15.039301310')}\n"
     ]
    }
   ],
   "source": [
    "predicted, durs = collab_pipeline(k_top=50, target='category_id', model_name='cosine', test_months=2)"
   ]
  },
  {
   "attachments": {},
   "cell_type": "markdown",
   "metadata": {},
   "source": [
    "### 6 months"
   ]
  },
  {
   "cell_type": "code",
   "execution_count": 12,
   "metadata": {},
   "outputs": [
    {
     "name": "stdout",
     "output_type": "stream",
     "text": [
      "{'recall@1': 0.029773122094710804, 'recall@1_users': 0.023363368931309445, 'users_hitted@1': 0.1638495879883615, 'recall@5': 0.08911250319500583, 'recall@5_users': 0.06532689154160551, 'users_hitted@5': 0.30708748861692914, 'recall@10': 0.14005930797256844, 'recall@10_users': 0.09791311202510997, 'users_hitted@10': 0.3713435355262866, 'recall@20': 0.21396791564318174, 'recall@20_users': 0.14414362066697273, 'users_hitted@20': 0.4273815605357262}\n",
      "{'MAE': Timedelta('149 days 08:22:20.906312022')}\n"
     ]
    }
   ],
   "source": [
    "predicted, durs = collab_pipeline(k_top=50, target='category_id', model_name='tfidf', test_months=6)"
   ]
  },
  {
   "cell_type": "code",
   "execution_count": 13,
   "metadata": {},
   "outputs": [
    {
     "name": "stdout",
     "output_type": "stream",
     "text": [
      "{'recall@1': 0.0313229706839262, 'recall@1_users': 0.025295302074072285, 'users_hitted@1': 0.16278346622837217, 'recall@5': 0.09193710495648294, 'recall@5_users': 0.07035310449588622, 'users_hitted@5': 0.3132398996068676, 'recall@10': 0.14110662005207317, 'recall@10_users': 0.1039038984617279, 'users_hitted@10': 0.377895742176221, 'recall@20': 0.21792105844586251, 'recall@20_users': 0.1524774928086393, 'users_hitted@20': 0.43622148679563777}\n",
      "{'MAE': Timedelta('149 days 10:48:16.034452428')}\n"
     ]
    }
   ],
   "source": [
    "predicted, durs = collab_pipeline(k_top=50, target='category_id', model_name='bm25', test_months=6)"
   ]
  },
  {
   "cell_type": "code",
   "execution_count": 14,
   "metadata": {},
   "outputs": [
    {
     "name": "stdout",
     "output_type": "stream",
     "text": [
      "{'recall@1': 0.026986427182026523, 'recall@1_users': 0.02147654213465227, 'users_hitted@1': 0.16378295537836218, 'recall@5': 0.07820291211242955, 'recall@5_users': 0.05804437050456498, 'users_hitted@5': 0.29860293627701395, 'recall@10': 0.12240013169922323, 'recall@10_users': 0.08680139622194072, 'users_hitted@10': 0.3615485418563845, 'recall@20': 0.19437982229269285, 'recall@20_users': 0.13350292941625394, 'users_hitted@20': 0.4216733669457833}\n",
      "{'MAE': Timedelta('149 days 08:35:30.089718782')}\n"
     ]
    }
   ],
   "source": [
    "predicted, durs = collab_pipeline(k_top=50, target='category_id', model_name='cosine', test_months=6)"
   ]
  }
 ],
 "metadata": {
  "kernelspec": {
   "display_name": ".venv",
   "language": "python",
   "name": "python3"
  },
  "language_info": {
   "codemirror_mode": {
    "name": "ipython",
    "version": 3
   },
   "file_extension": ".py",
   "mimetype": "text/x-python",
   "name": "python",
   "nbconvert_exporter": "python",
   "pygments_lexer": "ipython3",
   "version": "3.8.10"
  },
  "orig_nbformat": 4
 },
 "nbformat": 4,
 "nbformat_minor": 2
}
