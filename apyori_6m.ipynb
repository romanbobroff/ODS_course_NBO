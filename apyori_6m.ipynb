{
 "cells": [
  {
   "cell_type": "code",
   "execution_count": 2,
   "id": "bd2a0d27",
   "metadata": {
    "tags": []
   },
   "outputs": [],
   "source": [
    "import sys\n",
    "import pandas as pd\n",
    "import datetime as dt\n",
    "import numpy as np\n",
    "\n",
    "from mlxtend.preprocessing import TransactionEncoder\n",
    "from mlxtend.frequent_patterns import apriori, association_rules \n",
    "from mlxtend.frequent_patterns import fpgrowth"
   ]
  },
  {
   "cell_type": "code",
   "execution_count": 3,
   "id": "9eed30fe",
   "metadata": {},
   "outputs": [],
   "source": [
    "def get_parent_directory():\n",
    "    list = sys.path[0].split('\\\\')[:-1]\n",
    "    return_str = ''\n",
    "    for element in list:\n",
    "        return_str += element + '/'\n",
    "    return return_str.rstrip('/')"
   ]
  },
  {
   "cell_type": "code",
   "execution_count": 2,
   "id": "f1d93b93",
   "metadata": {
    "tags": []
   },
   "outputs": [],
   "source": [
    "obj = pd.read_pickle(get_parent_directory()+'/data/transaction_and_features.pkl')\n",
    "obj['purch_date'] = pd.to_datetime(obj['purch_date']).dt.date\n",
    "obj = obj[obj.is_purchase==1]"
   ]
  },
  {
   "cell_type": "code",
   "execution_count": 3,
   "id": "1956589a-c3ef-457f-8c92-8d68f8503f4b",
   "metadata": {
    "tags": []
   },
   "outputs": [],
   "source": [
    "test_months = 6\n",
    "max_date = obj['purch_date'].max()\n",
    "train = obj[obj['purch_date'] < max_date - pd.Timedelta(weeks=test_months * 4)]\n",
    "test = obj[obj['purch_date'] >= max_date - pd.Timedelta(weeks=test_months * 4)]"
   ]
  },
  {
   "cell_type": "code",
   "execution_count": 4,
   "id": "7e541c71",
   "metadata": {
    "tags": []
   },
   "outputs": [
    {
     "data": {
      "text/html": [
       "<div>\n",
       "<style scoped>\n",
       "    .dataframe tbody tr th:only-of-type {\n",
       "        vertical-align: middle;\n",
       "    }\n",
       "\n",
       "    .dataframe tbody tr th {\n",
       "        vertical-align: top;\n",
       "    }\n",
       "\n",
       "    .dataframe thead th {\n",
       "        text-align: right;\n",
       "    }\n",
       "</style>\n",
       "<table border=\"1\" class=\"dataframe\">\n",
       "  <thead>\n",
       "    <tr style=\"text-align: right;\">\n",
       "      <th></th>\n",
       "      <th>item</th>\n",
       "      <th>price_median</th>\n",
       "      <th>price_mean</th>\n",
       "      <th>quantity_median</th>\n",
       "      <th>quantity_mean</th>\n",
       "    </tr>\n",
       "  </thead>\n",
       "  <tbody>\n",
       "    <tr>\n",
       "      <th>0</th>\n",
       "      <td>18296</td>\n",
       "      <td>335.0</td>\n",
       "      <td>345.530612</td>\n",
       "      <td>2.47</td>\n",
       "      <td>2.525918</td>\n",
       "    </tr>\n",
       "    <tr>\n",
       "      <th>1</th>\n",
       "      <td>26681</td>\n",
       "      <td>3731.0</td>\n",
       "      <td>3731.000000</td>\n",
       "      <td>2.47</td>\n",
       "      <td>2.470000</td>\n",
       "    </tr>\n",
       "    <tr>\n",
       "      <th>2</th>\n",
       "      <td>32173</td>\n",
       "      <td>1533.0</td>\n",
       "      <td>1555.875000</td>\n",
       "      <td>2.47</td>\n",
       "      <td>2.641250</td>\n",
       "    </tr>\n",
       "    <tr>\n",
       "      <th>3</th>\n",
       "      <td>32539</td>\n",
       "      <td>3779.0</td>\n",
       "      <td>3928.800000</td>\n",
       "      <td>2.47</td>\n",
       "      <td>3.383333</td>\n",
       "    </tr>\n",
       "    <tr>\n",
       "      <th>4</th>\n",
       "      <td>38071</td>\n",
       "      <td>277.0</td>\n",
       "      <td>320.315315</td>\n",
       "      <td>2.47</td>\n",
       "      <td>2.618108</td>\n",
       "    </tr>\n",
       "  </tbody>\n",
       "</table>\n",
       "</div>"
      ],
      "text/plain": [
       "    item  price_median   price_mean  quantity_median  quantity_mean\n",
       "0  18296         335.0   345.530612             2.47       2.525918\n",
       "1  26681        3731.0  3731.000000             2.47       2.470000\n",
       "2  32173        1533.0  1555.875000             2.47       2.641250\n",
       "3  32539        3779.0  3928.800000             2.47       3.383333\n",
       "4  38071         277.0   320.315315             2.47       2.618108"
      ]
     },
     "execution_count": 4,
     "metadata": {},
     "output_type": "execute_result"
    }
   ],
   "source": [
    "items_sts = train.groupby('item').agg({'price':['median', 'mean'], \n",
    "                                       'quantity':['median', 'mean']}).reset_index() \n",
    "items_sts.columns = items_sts.columns.droplevel()\n",
    "items_sts.columns = ['item', 'price_median', 'price_mean', 'quantity_median', 'quantity_mean']\n",
    "\n",
    "items_sts.head()"
   ]
  },
  {
   "cell_type": "code",
   "execution_count": 5,
   "id": "934036b6",
   "metadata": {
    "tags": []
   },
   "outputs": [
    {
     "data": {
      "text/html": [
       "<div>\n",
       "<style scoped>\n",
       "    .dataframe tbody tr th:only-of-type {\n",
       "        vertical-align: middle;\n",
       "    }\n",
       "\n",
       "    .dataframe tbody tr th {\n",
       "        vertical-align: top;\n",
       "    }\n",
       "\n",
       "    .dataframe thead th {\n",
       "        text-align: right;\n",
       "    }\n",
       "</style>\n",
       "<table border=\"1\" class=\"dataframe\">\n",
       "  <thead>\n",
       "    <tr style=\"text-align: right;\">\n",
       "      <th></th>\n",
       "      <th>category</th>\n",
       "      <th>price_median</th>\n",
       "      <th>price_mean</th>\n",
       "      <th>quantity_median</th>\n",
       "      <th>quantity_mean</th>\n",
       "    </tr>\n",
       "  </thead>\n",
       "  <tbody>\n",
       "    <tr>\n",
       "      <th>0</th>\n",
       "      <td>петлевой ковролин</td>\n",
       "      <td>355.0</td>\n",
       "      <td>355.284444</td>\n",
       "      <td>15.074</td>\n",
       "      <td>18.352593</td>\n",
       "    </tr>\n",
       "    <tr>\n",
       "      <th>1</th>\n",
       "      <td>террасные доски</td>\n",
       "      <td>512.0</td>\n",
       "      <td>646.762102</td>\n",
       "      <td>6.580</td>\n",
       "      <td>14.908008</td>\n",
       "    </tr>\n",
       "    <tr>\n",
       "      <th>2</th>\n",
       "      <td>1 ламповые</td>\n",
       "      <td>803.0</td>\n",
       "      <td>877.364372</td>\n",
       "      <td>2.470</td>\n",
       "      <td>3.676377</td>\n",
       "    </tr>\n",
       "    <tr>\n",
       "      <th>3</th>\n",
       "      <td>2 ламповые</td>\n",
       "      <td>1512.0</td>\n",
       "      <td>1546.273128</td>\n",
       "      <td>2.470</td>\n",
       "      <td>2.829097</td>\n",
       "    </tr>\n",
       "    <tr>\n",
       "      <th>4</th>\n",
       "      <td>3 ламповые</td>\n",
       "      <td>1572.0</td>\n",
       "      <td>1829.419608</td>\n",
       "      <td>2.470</td>\n",
       "      <td>2.717137</td>\n",
       "    </tr>\n",
       "  </tbody>\n",
       "</table>\n",
       "</div>"
      ],
      "text/plain": [
       "             category  price_median   price_mean  quantity_median  \\\n",
       "0   петлевой ковролин         355.0   355.284444           15.074   \n",
       "1     террасные доски         512.0   646.762102            6.580   \n",
       "2          1 ламповые         803.0   877.364372            2.470   \n",
       "3          2 ламповые        1512.0  1546.273128            2.470   \n",
       "4          3 ламповые        1572.0  1829.419608            2.470   \n",
       "\n",
       "   quantity_mean  \n",
       "0      18.352593  \n",
       "1      14.908008  \n",
       "2       3.676377  \n",
       "3       2.829097  \n",
       "4       2.717137  "
      ]
     },
     "execution_count": 5,
     "metadata": {},
     "output_type": "execute_result"
    }
   ],
   "source": [
    "category_sts = train.groupby('category').agg({'price':['median', 'mean'], \n",
    "                                              'quantity':['median', 'mean']}).reset_index() \n",
    "category_sts.columns = category_sts.columns.droplevel()\n",
    "category_sts.columns = ['category', 'price_median', 'price_mean', 'quantity_median', 'quantity_mean']\n",
    "\n",
    "category_sts.head()"
   ]
  },
  {
   "cell_type": "code",
   "execution_count": 10,
   "id": "a4de3bfd",
   "metadata": {
    "tags": []
   },
   "outputs": [
    {
     "data": {
      "text/plain": [
       "37.12751"
      ]
     },
     "execution_count": 10,
     "metadata": {},
     "output_type": "execute_result"
    }
   ],
   "source": [
    "len(train)*0.00001"
   ]
  },
  {
   "cell_type": "markdown",
   "id": "7dd4be20",
   "metadata": {},
   "source": [
    "### Результат #1 на уровне item по id_check_unic"
   ]
  },
  {
   "cell_type": "code",
   "execution_count": 11,
   "id": "d357b42e",
   "metadata": {
    "tags": []
   },
   "outputs": [],
   "source": [
    "tb = train[['item','id_check_unique', 'price', 'quantity', 'turnover', 'is_purchase', 'purch_date']]\n",
    "df1 = tb.groupby('id_check_unique')['item'].apply(list).reset_index(name='basket')\n",
    "df1['basket_len'] = df1['basket'].str.len()\n",
    "df1 = df1[df1.basket_len>1]\n",
    "df1 = df1.basket.tolist()\n",
    "\n",
    "te = TransactionEncoder() \n",
    "fitted = te.fit(df1)\n",
    "te_ary = fitted.transform(df1, sparse=True) \n",
    "\n",
    "df = pd.DataFrame.sparse.from_spmatrix(te_ary, columns=te.columns_) \n",
    "df.columns = [str(i) for i in df.columns]"
   ]
  },
  {
   "cell_type": "code",
   "execution_count": 12,
   "id": "8311cc81",
   "metadata": {},
   "outputs": [],
   "source": [
    "rules1 = fpgrowth(df, min_support=0.00001, max_len=2, use_colnames=True)"
   ]
  },
  {
   "cell_type": "code",
   "execution_count": 13,
   "id": "5743d7e2",
   "metadata": {},
   "outputs": [],
   "source": [
    "rules1_metrics = association_rules(rules1, metric=\"lift\", min_threshold=1)\n",
    "rules1_metrics[\"antecedents\"] = rules1_metrics[\"antecedents\"].apply(lambda x: list(x)[0]).astype(\"unicode\")\n",
    "rules1_metrics[\"consequents\"] = rules1_metrics[\"consequents\"].apply(lambda x: list(x)[0]).astype(\"unicode\")\n",
    "\n",
    "rules1_metrics['antecedents'] = rules1_metrics['antecedents'].astype(int)\n",
    "items_sts['item'] = items_sts['item'].astype(int)\n",
    "\n",
    "rules1_metrics = rules1_metrics.merge(items_sts, how='left', right_on='item', left_on='antecedents')\n",
    "rules1_metrics = rules1_metrics[['antecedents', 'consequents', 'antecedent support',\n",
    "       'consequent support', 'support', 'confidence', 'lift', 'leverage',\n",
    "       'conviction', 'zhangs_metric',  'price_median', 'price_mean',\n",
    "       'quantity_median', 'quantity_mean']]\n",
    "\n",
    "rules1_metrics.to_csv(get_parent_directory()+'/data/rules1_lift_6m.csv')"
   ]
  },
  {
   "cell_type": "markdown",
   "id": "dfa48521",
   "metadata": {},
   "source": [
    "### Результат #2 на уровне category по id_check_unic"
   ]
  },
  {
   "cell_type": "code",
   "execution_count": 17,
   "id": "799a15d6",
   "metadata": {
    "tags": []
   },
   "outputs": [],
   "source": [
    "tb = train[['category', 'id_check_unique']]\n",
    "# tb = tb.drop_duplicates()\n",
    "df2 = tb.groupby('id_check_unique')['category'].apply(list).reset_index(name='basket')\n",
    "df2['basket_len'] = df2['basket'].str.len()\n",
    "df2 = df2[df2.basket_len>1]\n",
    "df2 = df2.basket.tolist()\n",
    "\n",
    "te = TransactionEncoder() \n",
    "fitted = te.fit(df2)\n",
    "te_ary = fitted.transform(df2, sparse=True) \n",
    "\n",
    "df = pd.DataFrame.sparse.from_spmatrix(te_ary, columns=te.columns_) \n",
    "df.columns = [str(i) for i in df.columns]\n",
    "\n",
    "rules2 = fpgrowth(df, min_support=0.00001, max_len=2, use_colnames=True)"
   ]
  },
  {
   "cell_type": "code",
   "execution_count": null,
   "id": "2768933a",
   "metadata": {
    "tags": []
   },
   "outputs": [],
   "source": [
    "rules2_metrics = association_rules(rules2, metric=\"lift\", min_threshold=1)\n",
    "rules2_metrics[\"antecedents\"] = rules2_metrics[\"antecedents\"].apply(lambda x: list(x)[0]).astype(\"unicode\")\n",
    "rules2_metrics[\"consequents\"] = rules2_metrics[\"consequents\"].apply(lambda x: list(x)[0]).astype(\"unicode\")\n",
    "\n",
    "rules2_metrics['antecedents'] = rules2_metrics['antecedents'].astype(str)\n",
    "category_sts['category'] = category_sts['category'].astype(str)\n",
    "\n",
    "rules2_metrics = rules2_metrics.merge(category_sts, how='left', right_on='category', left_on='antecedents')\n",
    "rules2_metrics = rules2_metrics[['antecedents', 'consequents', 'antecedent support',\n",
    "       'consequent support', 'support', 'confidence', 'lift', 'leverage',\n",
    "       'conviction', 'zhangs_metric',  'price_median', 'price_mean',\n",
    "       'quantity_median', 'quantity_mean']]\n",
    "\n",
    "rules2_metrics.to_csv(get_parent_directory()+'/data/rules2_lift_6m.csv')"
   ]
  },
  {
   "cell_type": "markdown",
   "id": "b9b0fdce",
   "metadata": {},
   "source": [
    "### Результат #3 на уровне item по id_check_unic_lastnext"
   ]
  },
  {
   "cell_type": "code",
   "execution_count": 23,
   "id": "6ef89997",
   "metadata": {},
   "outputs": [],
   "source": [
    "tb = train[['id', 'item','id_check_unique', 'price', 'quantity', 'turnover', 'is_purchase', 'purch_date', 'channel']]\n",
    "df3 = tb.groupby(['id', 'id_check_unique', 'purch_date', 'channel'])['item'].apply(list).reset_index(name='basket')\n",
    "df3.sort_values(by=['id', 'channel', 'purch_date',  'id_check_unique'], inplace=True)\n",
    "df3['lagged_values'] = df3.groupby(['id', 'channel'])['id_check_unique'].shift(1)\n",
    "df3 = df3.merge(df3[['id_check_unique', 'basket']], how='left', left_on='lagged_values', right_on='id_check_unique')\n",
    "df3['basket_y'] = [ [] if x is np.NaN else x for x in df3['basket_y'] ]\n",
    "df3['merged_basket'] = df3.basket_x + df3.basket_y\n",
    "\n",
    "df3 = df3[['id', 'id_check_unique_x', 'lagged_values', 'merged_basket']]\n",
    "df3.columns = ['id', 'id_check_unique', 'lagged_values', 'merged_basket']\n",
    "df3['basket_len'] = df3['merged_basket'].str.len()\n",
    "df3 = df3[df3['basket_len']>1]\n",
    "df3 = df3.merged_basket.tolist()"
   ]
  },
  {
   "cell_type": "code",
   "execution_count": 24,
   "id": "f1b7ebac",
   "metadata": {},
   "outputs": [],
   "source": [
    "te = TransactionEncoder() \n",
    "fitted = te.fit(df3)\n",
    "te_ary = fitted.transform(df3, sparse=True) \n",
    "\n",
    "df = pd.DataFrame.sparse.from_spmatrix(te_ary, columns=te.columns_) \n",
    "df.columns = [str(i) for i in df.columns]"
   ]
  },
  {
   "cell_type": "code",
   "execution_count": 25,
   "id": "e358ba7a",
   "metadata": {},
   "outputs": [],
   "source": [
    "rules3 = fpgrowth(df, min_support=0.00001, max_len=2, use_colnames=True)"
   ]
  },
  {
   "cell_type": "code",
   "execution_count": 26,
   "id": "55632a56",
   "metadata": {},
   "outputs": [],
   "source": [
    "rules3_metrics = association_rules(rules3, metric=\"lift\", min_threshold=1)\n",
    "rules3_metrics[\"antecedents\"] = rules3_metrics[\"antecedents\"].apply(lambda x: list(x)[0]).astype(\"unicode\")\n",
    "rules3_metrics[\"consequents\"] = rules3_metrics[\"consequents\"].apply(lambda x: list(x)[0]).astype(\"unicode\")\n",
    "\n",
    "rules3_metrics['antecedents'] = rules3_metrics['antecedents'].astype(int)\n",
    "\n",
    "rules3_metrics = rules3_metrics.merge(items_sts, how='left', right_on='item', left_on='antecedents')\n",
    "rules3_metrics = rules3_metrics[['antecedents', 'consequents', 'antecedent support',\n",
    "       'consequent support', 'support', 'confidence', 'lift', 'leverage',\n",
    "       'conviction', 'zhangs_metric',  'price_median', 'price_mean',\n",
    "       'quantity_median', 'quantity_mean']]\n",
    "\n",
    "rules3_metrics.to_csv(get_parent_directory()+'/data/rules3_lift_6m.csv')"
   ]
  },
  {
   "cell_type": "markdown",
   "id": "2d79dea9",
   "metadata": {},
   "source": [
    "### Результат #4 на уровне category по id_check_unic_lastnext"
   ]
  },
  {
   "cell_type": "code",
   "execution_count": 27,
   "id": "30bb22e6",
   "metadata": {
    "tags": []
   },
   "outputs": [],
   "source": [
    "tb = train[['id', 'category','id_check_unique', 'price', 'quantity', 'turnover', 'is_purchase', 'purch_date', 'channel']]\n",
    "df4 = tb.groupby(['id', 'id_check_unique', 'purch_date', 'channel'])['category'].apply(list).reset_index(name='basket')\n",
    "df4.sort_values(by=['id', 'channel', 'purch_date',  'id_check_unique'], inplace=True)\n",
    "df4['lagged_values'] = df4.groupby(['id', 'channel'])['id_check_unique'].shift(1)\n",
    "\n",
    "df4 = df4.merge(df4[['id_check_unique', 'basket']], how='left', left_on='lagged_values', right_on='id_check_unique')\n",
    "df4['basket_y'] = [ [] if x is np.NaN else x for x in df4['basket_y'] ]\n",
    "df4['merged_basket'] = df4.basket_x + df4.basket_y\n",
    "\n",
    "df4 = df4[['id', 'id_check_unique_x', 'lagged_values', 'merged_basket']]\n",
    "df4.columns = ['id', 'id_check_unique', 'lagged_values', 'merged_basket']\n",
    "df4['basket_len'] = df4['merged_basket'].str.len()\n",
    "df4 = df4[df4['basket_len']>1]\n",
    "df4 = df4.merged_basket.tolist()\n",
    "\n",
    "te = TransactionEncoder() \n",
    "fitted = te.fit(df4)\n",
    "te_ary = fitted.transform(df4, sparse=True) \n",
    "\n",
    "df = pd.DataFrame.sparse.from_spmatrix(te_ary, columns=te.columns_) \n",
    "df.columns = [str(i) for i in df.columns]"
   ]
  },
  {
   "cell_type": "code",
   "execution_count": 28,
   "id": "78627ab4",
   "metadata": {},
   "outputs": [],
   "source": [
    "rules4 = fpgrowth(df, min_support=0.00001, max_len=2, use_colnames=True)"
   ]
  },
  {
   "cell_type": "code",
   "execution_count": 35,
   "id": "9438b78e",
   "metadata": {},
   "outputs": [],
   "source": [
    "rules4_metrics = association_rules(rules4, metric=\"lift\", min_threshold=1)\n",
    "rules4_metrics[\"antecedents\"] = rules4_metrics[\"antecedents\"].apply(lambda x: list(x)[0]).astype(\"unicode\")\n",
    "rules4_metrics[\"consequents\"] = rules4_metrics[\"consequents\"].apply(lambda x: list(x)[0]).astype(\"unicode\")\n",
    "\n",
    "rules4_metrics['antecedents'] = rules4_metrics['antecedents'].astype(str)\n",
    "\n",
    "rules4_metrics = rules4_metrics.merge(category_sts, how='left', right_on='category', left_on='antecedents')\n",
    "rules4_metrics = rules4_metrics[['antecedents', 'consequents', 'antecedent support',\n",
    "       'consequent support', 'support', 'confidence', 'lift', 'leverage',\n",
    "       'conviction', 'zhangs_metric',  'price_median', 'price_mean',\n",
    "       'quantity_median', 'quantity_mean']]\n",
    "\n",
    "rules4_metrics.to_csv(get_parent_directory()+'/data/rules4_lift_6m.csv')"
   ]
  }
 ],
 "metadata": {
  "kernelspec": {
   "display_name": "Python 3 (ipykernel)",
   "language": "python",
   "name": "python3"
  },
  "language_info": {
   "codemirror_mode": {
    "name": "ipython",
    "version": 3
   },
   "file_extension": ".py",
   "mimetype": "text/x-python",
   "name": "python",
   "nbconvert_exporter": "python",
   "pygments_lexer": "ipython3",
   "version": "3.11.3"
  }
 },
 "nbformat": 4,
 "nbformat_minor": 5
}
