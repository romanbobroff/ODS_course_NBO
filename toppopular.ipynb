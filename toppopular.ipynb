{
 "cells": [
  {
   "cell_type": "code",
   "execution_count": 1,
   "metadata": {},
   "outputs": [],
   "source": [
    "%load_ext autoreload\n",
    "%autoreload 2\n",
    "\n",
    "import pandas as pd\n",
    "import warnings\n",
    "\n",
    "from lib.pipelines import toppopular_pipeline\n",
    "\n",
    "warnings.filterwarnings(\"ignore\")\n",
    "pd.set_option('display.max_columns', 100)"
   ]
  },
  {
   "attachments": {},
   "cell_type": "markdown",
   "metadata": {},
   "source": [
    "## Таргет - item_id"
   ]
  },
  {
   "attachments": {},
   "cell_type": "markdown",
   "metadata": {},
   "source": [
    "### 2 months"
   ]
  },
  {
   "cell_type": "code",
   "execution_count": 4,
   "metadata": {},
   "outputs": [
    {
     "name": "stdout",
     "output_type": "stream",
     "text": [
      "{'recall@1': 0.0039200635083092225, 'recall@1_users': 0.004669571301321014, 'users_hitted@1': 0.037721021611001965, 'recall@5': 0.010530045072529377, 'recall@5_users': 0.012052049946837019, 'users_hitted@5': 0.08788474132285527, 'recall@10': 0.01630352772911869, 'recall@10_users': 0.01762965244918814, 'users_hitted@10': 0.131237721021611, 'recall@20': 0.030688028552496048, 'recall@20_users': 0.027701549838586054, 'users_hitted@20': 0.20515171359965073}\n",
      "{'MAE': Timedelta('81 days 20:03:04.108639122')}\n"
     ]
    }
   ],
   "source": [
    "predicted, durs = toppopular_pipeline(k_top=50, target='item_id', model_name='toppop', test_months=2)"
   ]
  },
  {
   "cell_type": "code",
   "execution_count": 4,
   "metadata": {},
   "outputs": [
    {
     "name": "stdout",
     "output_type": "stream",
     "text": [
      "{'recall@1': 0.014105667854167076, 'recall@1_users': 0.02670847496599233, 'users_hitted@1': 0.11355599214145383, 'recall@5': 0.0755145288378898, 'recall@5_users': 0.0786924690814233, 'users_hitted@5': 0.3147347740667976, 'recall@10': 0.09644996424377218, 'recall@10_users': 0.08677232450601381, 'users_hitted@10': 0.3274394237066143, 'recall@20': 0.10469685935665032, 'recall@20_users': 0.08804858736175936, 'users_hitted@20': 0.3277450338354071}\n",
      "{'MAE': Timedelta('68 days 12:14:05.848739496')}\n"
     ]
    }
   ],
   "source": [
    "predicted, durs = toppopular_pipeline(k_top=50, target='item_id', model_name='usertoppop', test_months=2)"
   ]
  },
  {
   "attachments": {},
   "cell_type": "markdown",
   "metadata": {},
   "source": [
    "### 6 months"
   ]
  },
  {
   "cell_type": "code",
   "execution_count": 5,
   "metadata": {},
   "outputs": [
    {
     "name": "stdout",
     "output_type": "stream",
     "text": [
      "{'recall@1': 0.0036650507518552694, 'recall@1_users': 0.004270233372098934, 'users_hitted@1': 0.04624303133953757, 'recall@5': 0.011742458703195872, 'recall@5_users': 0.013840338979833678, 'users_hitted@5': 0.12755702640872443, 'recall@10': 0.016544714918836023, 'recall@10_users': 0.019969240123971055, 'users_hitted@10': 0.16451591408835484, 'recall@20': 0.02691494569573147, 'recall@20_users': 0.02722797939520942, 'users_hitted@20': 0.22972702840770273}\n",
      "{'MAE': Timedelta('144 days 00:30:00.441584420')}\n"
     ]
    }
   ],
   "source": [
    "predicted, durs = toppopular_pipeline(k_top=50, target='item_id', model_name='toppop', test_months=6)"
   ]
  },
  {
   "cell_type": "code",
   "execution_count": 6,
   "metadata": {},
   "outputs": [
    {
     "name": "stdout",
     "output_type": "stream",
     "text": [
      "{'recall@1': 0.009526532628049336, 'recall@1_users': 0.015009524218214838, 'users_hitted@1': 0.10339159984896608, 'recall@5': 0.05721226535660597, 'recall@5_users': 0.04403081209367211, 'users_hitted@5': 0.25391466583746086, 'recall@10': 0.07427576257749242, 'recall@10_users': 0.047693613748711054, 'users_hitted@10': 0.25744619416742553, 'recall@20': 0.08051739599443744, 'recall@20_users': 0.048184085234377456, 'users_hitted@20': 0.2574684050374253}\n",
      "{'MAE': Timedelta('123 days 00:28:17.606092328')}\n"
     ]
    }
   ],
   "source": [
    "predicted, durs = toppopular_pipeline(k_top=50, target='item_id', model_name='usertoppop', test_months=6)"
   ]
  },
  {
   "cell_type": "markdown",
   "metadata": {},
   "source": [
    "## Таргет - category_id"
   ]
  },
  {
   "cell_type": "markdown",
   "metadata": {},
   "source": [
    "### 2 months"
   ]
  },
  {
   "cell_type": "code",
   "execution_count": 7,
   "metadata": {},
   "outputs": [
    {
     "name": "stdout",
     "output_type": "stream",
     "text": [
      "{'recall@1': 0.020331844037238964, 'recall@1_users': 0.010813553649499765, 'users_hitted@1': 0.03112857454704213, 'recall@5': 0.11048674395260495, 'recall@5_users': 0.06325092470867069, 'users_hitted@5': 0.27168740449683476, 'recall@10': 0.17899108390576102, 'recall@10_users': 0.1200254731335873, 'users_hitted@10': 0.42401222440515174, 'recall@20': 0.2608170790114223, 'recall@20_users': 0.1845309901686016, 'users_hitted@20': 0.5252564942152369}\n",
      "{'MAE': Timedelta('84 days 12:20:06.956370135')}\n"
     ]
    }
   ],
   "source": [
    "predicted, durs = toppopular_pipeline(k_top=50, target='category_id', model_name='toppop', test_months=2)"
   ]
  },
  {
   "cell_type": "code",
   "execution_count": 8,
   "metadata": {},
   "outputs": [
    {
     "name": "stdout",
     "output_type": "stream",
     "text": [
      "{'recall@1': 0.0428910714402871, 'recall@1_users': 0.0426515234780755, 'users_hitted@1': 0.15834970530451867, 'recall@5': 0.16261866803130803, 'recall@5_users': 0.15193267279341904, 'users_hitted@5': 0.42475442043222006, 'recall@10': 0.2806306217647175, 'recall@10_users': 0.2346217068566888, 'users_hitted@10': 0.5054791530233573, 'recall@20': 0.36048510375866843, 'recall@20_users': 0.2733294594858068, 'users_hitted@20': 0.5180528268936914}\n",
      "{'MAE': Timedelta('80 days 21:42:45.045861172')}\n"
     ]
    }
   ],
   "source": [
    "predicted, durs = toppopular_pipeline(k_top=50, target='category_id', model_name='usertoppop', test_months=2)"
   ]
  },
  {
   "cell_type": "markdown",
   "metadata": {},
   "source": [
    "### 6 months"
   ]
  },
  {
   "cell_type": "code",
   "execution_count": 9,
   "metadata": {},
   "outputs": [
    {
     "name": "stdout",
     "output_type": "stream",
     "text": [
      "{'recall@1': 0.018691325613332813, 'recall@1_users': 0.010587892298292219, 'users_hitted@1': 0.044599426959554, 'recall@5': 0.11212954178201179, 'recall@5_users': 0.06110270697995152, 'users_hitted@5': 0.3110188126068898, 'recall@10': 0.17313899033483662, 'recall@10_users': 0.11058756982911756, 'users_hitted@10': 0.4414410412455856, 'recall@20': 0.26931949625047114, 'recall@20_users': 0.18276284399831186, 'users_hitted@20': 0.5555827021744442}\n",
      "{'MAE': Timedelta('149 days 02:01:17.070015794')}\n"
     ]
    }
   ],
   "source": [
    "predicted, durs = toppopular_pipeline(k_top=50, target='category_id', model_name='toppop', test_months=6)"
   ]
  },
  {
   "cell_type": "code",
   "execution_count": 10,
   "metadata": {},
   "outputs": [
    {
     "name": "stdout",
     "output_type": "stream",
     "text": [
      "{'recall@1': 0.03589886885963202, 'recall@1_users': 0.030714570736126726, 'users_hitted@1': 0.15456544432845434, 'recall@5': 0.1423792071186896, 'recall@5_users': 0.10935158861061148, 'users_hitted@5': 0.3637696288563623, 'recall@10': 0.2458659873759363, 'recall@10_users': 0.16080631815973412, 'users_hitted@10': 0.3966417164560336, 'recall@20': 0.31715577332137646, 'recall@20_users': 0.18034118568207433, 'users_hitted@20': 0.39906270128600935}\n",
      "{'MAE': Timedelta('139 days 05:37:09.617315898')}\n"
     ]
    }
   ],
   "source": [
    "predicted, durs = toppopular_pipeline(k_top=50, target='category_id', model_name='usertoppop', test_months=6)"
   ]
  }
 ],
 "metadata": {
  "kernelspec": {
   "display_name": ".venv",
   "language": "python",
   "name": "python3"
  },
  "language_info": {
   "codemirror_mode": {
    "name": "ipython",
    "version": 3
   },
   "file_extension": ".py",
   "mimetype": "text/x-python",
   "name": "python",
   "nbconvert_exporter": "python",
   "pygments_lexer": "ipython3",
   "version": "3.8.10"
  },
  "orig_nbformat": 4
 },
 "nbformat": 4,
 "nbformat_minor": 2
}
