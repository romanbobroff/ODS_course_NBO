{
 "cells": [
  {
   "cell_type": "code",
   "execution_count": 1,
   "id": "0160431f-255e-4688-9dc7-62c174dee27a",
   "metadata": {
    "tags": []
   },
   "outputs": [],
   "source": [
    "import pandas as pd\n",
    "import datetime as dt"
   ]
  },
  {
   "cell_type": "code",
   "execution_count": 2,
   "id": "eedb1d6d-b9c1-4ff0-8350-6d3b1ee22f14",
   "metadata": {
    "tags": []
   },
   "outputs": [],
   "source": [
    "obj = pd.read_pickle('data/transaction_and_features_2.pkl')\n",
    "obj['purch_date'] = pd.to_datetime(obj['purch_date']).dt.date\n",
    "obj = obj[obj.is_purchase==1]\n",
    "\n",
    "train = obj[obj.purch_date<=dt.date(2021,11,4)]\n",
    "test = obj[obj.purch_date>dt.date(2021,11,4)]"
   ]
  },
  {
   "cell_type": "code",
   "execution_count": 3,
   "id": "5d3885eb",
   "metadata": {},
   "outputs": [],
   "source": [
    "def postprocessing(candidates, target, months, lastnext=''):\n",
    "    candidates = candidates.rename(columns={\n",
    "        'id': 'user_id', \n",
    "        'item_next': target,\n",
    "    })\n",
    "    candidates = candidates.dropna(subset=[target])\n",
    "    candidates = candidates.sort_values(by=['user_id', 'score'])\n",
    "    candidates = candidates.drop_duplicates(subset=['user_id', target], keep='first')\n",
    "    candidates['rnk'] = candidates.groupby('user_id')['score'].rank(ascending=False)\n",
    "    candidates.to_parquet(f'apriori_output/target_{target}_{lastnext}{months}.par')"
   ]
  },
  {
   "cell_type": "markdown",
   "id": "54c34170-99e7-459e-b60a-0db99aa01836",
   "metadata": {},
   "source": [
    "## 2 Months test"
   ]
  },
  {
   "cell_type": "code",
   "execution_count": 4,
   "id": "b51c07ef-bf85-4a16-bfe9-2e5db21c6d26",
   "metadata": {
    "tags": []
   },
   "outputs": [],
   "source": [
    "rule1_2m = pd.read_csv('apriori_input/rules1_lift.csv')\n",
    "rule2_2m = pd.read_csv('apriori_input/rules2_lift.csv')\n",
    "rule3_2m = pd.read_csv('apriori_input/rules3_lift.csv')\n",
    "rule4_2m = pd.read_csv('apriori_input/rules4_lift.csv')"
   ]
  },
  {
   "cell_type": "markdown",
   "id": "e84aaecb-ea88-45f0-9941-95dad46fb1b6",
   "metadata": {
    "tags": []
   },
   "source": [
    "### Таргет - item_id по id_check_unic"
   ]
  },
  {
   "cell_type": "code",
   "execution_count": 5,
   "id": "289413eb-e927-4e3e-b861-c63208f9c37b",
   "metadata": {
    "tags": []
   },
   "outputs": [],
   "source": [
    "target_item_id = test[['id', 'purch_date', 'item']].merge(rule1_2m[rule1_2m.lift>3][['antecedents', 'consequents', 'lift']], how='left', left_on='item', right_on='antecedents')\n",
    "target_item_id = target_item_id[['id', 'purch_date', 'item', 'consequents', 'lift']]\n",
    "target_item_id.columns = ['id', 'purch_date', 'item', 'item_next', 'score']\n",
    "target_item_id = target_item_id.groupby(['id', 'purch_date', 'item_next']).score.max().reset_index()\n",
    "\n",
    "target_item_id = test[['id', 'purch_date']].drop_duplicates().merge(target_item_id, how='left', on=['id', 'purch_date'])"
   ]
  },
  {
   "cell_type": "code",
   "execution_count": 6,
   "id": "c803a34b",
   "metadata": {},
   "outputs": [],
   "source": [
    "target = 'item_id'\n",
    "months = 2\n",
    "postprocessing(target_item_id, target, months)"
   ]
  },
  {
   "cell_type": "markdown",
   "id": "16f22ca3-7748-44a6-8704-7c1b867becfc",
   "metadata": {
    "tags": []
   },
   "source": [
    "### Таргет - item_id по id_check_unic_lastnext"
   ]
  },
  {
   "cell_type": "code",
   "execution_count": 7,
   "id": "d5c06ed6-8c2a-449c-b40b-4a58a84737ca",
   "metadata": {
    "tags": []
   },
   "outputs": [],
   "source": [
    "target_item_id_lastnext = test[['id', 'id_check_unique', 'purch_date', 'channel', 'item']].merge(rule3_2m[rule3_2m.lift>3][['antecedents', 'consequents', 'lift']], \n",
    "                                                                                                 how='left', left_on='item', right_on='antecedents')\n",
    "target_item_id_lastnext = target_item_id_lastnext[['id', 'purch_date', 'item', 'consequents', 'lift']]\n",
    "target_item_id_lastnext.columns = ['id', 'purch_date', 'item', 'item_next', 'score']\n",
    "\n",
    "target_item_id_lastnext = target_item_id_lastnext.groupby(['id', 'purch_date', 'item_next']).score.max().reset_index()\n",
    "target_item_id_lastnext = test[['id', 'purch_date']].drop_duplicates().merge(target_item_id_lastnext, \n",
    "                                                                             how='left', on=['id', 'purch_date'])"
   ]
  },
  {
   "cell_type": "code",
   "execution_count": 8,
   "id": "57669d60",
   "metadata": {},
   "outputs": [],
   "source": [
    "target = 'item_id'\n",
    "months = 2\n",
    "postprocessing(target_item_id_lastnext, target, months, lastnext='lastnext_')"
   ]
  },
  {
   "cell_type": "markdown",
   "id": "71721f1d-83cd-43c2-afbf-c825e2caf90a",
   "metadata": {
    "tags": []
   },
   "source": [
    "### Таргет - category_id по id_check_unic"
   ]
  },
  {
   "cell_type": "code",
   "execution_count": 9,
   "id": "f69ccfa9-e662-46ee-acbd-a39a0e5fec6d",
   "metadata": {
    "tags": []
   },
   "outputs": [],
   "source": [
    "target_category_id = test[['id', 'id_check_unique', 'purch_date', 'channel', 'category']].merge(rule2_2m[rule2_2m.lift>3][['antecedents', 'consequents', 'lift']],\n",
    "                                                                                                how='left', left_on='category', right_on='antecedents')\n",
    "target_category_id = target_category_id[['id', 'purch_date', 'category', 'consequents', 'lift']]\n",
    "target_category_id.columns =  ['id', 'purch_date', 'item', 'item_next', 'score']\n",
    "\n",
    "target_category_id = target_category_id.groupby(['id', 'purch_date', 'item_next']).score.max().reset_index()\n",
    "target_category_id = test[['id', 'purch_date']].drop_duplicates().merge(target_category_id, how='left', on=['id', 'purch_date'])"
   ]
  },
  {
   "cell_type": "code",
   "execution_count": 10,
   "id": "cc22fd6d",
   "metadata": {},
   "outputs": [],
   "source": [
    "target = 'category_id'\n",
    "months = 2\n",
    "postprocessing(target_category_id, target, months)"
   ]
  },
  {
   "cell_type": "markdown",
   "id": "6053ea14-f9b7-4bad-b7e5-8f15706a1cd8",
   "metadata": {},
   "source": [
    "### Таргет - category_id по id_check_unic_lastnext"
   ]
  },
  {
   "cell_type": "code",
   "execution_count": 11,
   "id": "a44aca6b-a723-4619-9843-a1973fba5734",
   "metadata": {
    "tags": []
   },
   "outputs": [],
   "source": [
    "target_category_id_lastnext = test[['id', 'id_check_unique', 'purch_date', 'channel', 'category']].merge(rule4_2m[rule4_2m.lift>3][['antecedents', 'consequents', 'lift']], \n",
    "                                                                                                         how='left', left_on='category', right_on='antecedents')\n",
    "target_category_id_lastnext = target_category_id_lastnext[['id', 'purch_date', 'category', 'consequents', 'lift']]\n",
    "target_category_id_lastnext.columns = ['id', 'purch_date', 'item', 'item_next', 'score']\n",
    "\n",
    "target_category_id_lastnext = target_category_id_lastnext.groupby(['id', 'purch_date', 'item_next']).score.max().reset_index()\n",
    "target_category_id_lastnext = test[['id', 'purch_date']].drop_duplicates().merge(target_category_id_lastnext, how='left', on=['id', 'purch_date'])"
   ]
  },
  {
   "cell_type": "code",
   "execution_count": 12,
   "id": "507b4189",
   "metadata": {},
   "outputs": [],
   "source": [
    "target = 'category_id'\n",
    "months = 2\n",
    "postprocessing(target_category_id_lastnext, target, months, lastnext='lastnext_')"
   ]
  },
  {
   "cell_type": "markdown",
   "id": "c2ee3a76-439e-4f7a-839b-b4f536f49f63",
   "metadata": {},
   "source": [
    "## 6 Months test"
   ]
  },
  {
   "cell_type": "code",
   "execution_count": 13,
   "id": "0e5569a5-12a5-4eae-b5e6-61cfe4adb213",
   "metadata": {
    "tags": []
   },
   "outputs": [],
   "source": [
    "test_months = 6\n",
    "max_date = obj['purch_date'].max()\n",
    "test_6m = obj[obj['purch_date'] >= max_date - pd.Timedelta(weeks=test_months * 4)]"
   ]
  },
  {
   "cell_type": "code",
   "execution_count": 14,
   "id": "eaef3233-7bbb-4904-a419-22b72503afb7",
   "metadata": {
    "tags": []
   },
   "outputs": [],
   "source": [
    "rule1_6m = pd.read_csv('apriori_input/rules1_lift_6m.csv')\n",
    "rule2_6m = pd.read_csv('apriori_input/rules2_lift_6m.csv')\n",
    "rule3_6m = pd.read_csv('apriori_input/rules3_lift_6m.csv')\n",
    "rule4_6m = pd.read_csv('apriori_input/rules4_lift_6m.csv')"
   ]
  },
  {
   "cell_type": "markdown",
   "id": "18ebe0e0-de76-4c9d-94c7-17292fb1307a",
   "metadata": {},
   "source": [
    "### Таргет - item_id по id_check_unic"
   ]
  },
  {
   "cell_type": "code",
   "execution_count": 15,
   "id": "f4ccdf33-5b9b-4305-804b-34699d12d21e",
   "metadata": {
    "tags": []
   },
   "outputs": [],
   "source": [
    "target_item_id = test[['id', 'purch_date', 'item']].merge(rule1_6m[rule1_6m.lift>3][['antecedents', 'consequents', 'lift']], \n",
    "                                                          how='left', left_on='item', right_on='antecedents')\n",
    "target_item_id = target_item_id[['id', 'purch_date', 'item', 'consequents', 'lift']]\n",
    "target_item_id.columns = ['id', 'purch_date', 'item','item_next', 'score']\n",
    "\n",
    "target_item_id = target_item_id.groupby(['id', 'purch_date', 'item_next']).score.max().reset_index()\n",
    "target_item_id = test[['id', 'purch_date']].drop_duplicates().merge(target_item_id, how='left', on=['id', 'purch_date'])"
   ]
  },
  {
   "cell_type": "code",
   "execution_count": 16,
   "id": "f2378f7f",
   "metadata": {},
   "outputs": [],
   "source": [
    "target = 'item_id'\n",
    "months = 6\n",
    "postprocessing(target_item_id, target, months)"
   ]
  },
  {
   "cell_type": "markdown",
   "id": "07eb68af-e812-44e0-b36d-acaa3552cce8",
   "metadata": {},
   "source": [
    "### Таргет - item_id по id_check_unic_lastnext"
   ]
  },
  {
   "cell_type": "code",
   "execution_count": 17,
   "id": "6421a096-8f60-4a17-b9f3-42b40059d365",
   "metadata": {
    "tags": []
   },
   "outputs": [],
   "source": [
    "target_item_id_lastnext = test[['id', 'id_check_unique', 'purch_date', 'channel', 'item']].merge(rule3_6m[rule3_6m.lift>3][['antecedents', 'consequents', 'lift']], \n",
    "                                                                                                 how='left', left_on='item', right_on='antecedents')\n",
    "target_item_id_lastnext = target_item_id_lastnext[['id', 'purch_date', 'item', 'consequents', 'lift']]\n",
    "target_item_id_lastnext.columns = ['id', 'purch_date', 'item','item_next', 'score']\n",
    "\n",
    "target_item_id_lastnext = target_item_id_lastnext.groupby(['id', 'purch_date', 'item_next']).score.max().reset_index()\n",
    "target_item_id_lastnext = test[['id', 'purch_date']].drop_duplicates().merge(target_item_id_lastnext, how='left', on=['id', 'purch_date'])"
   ]
  },
  {
   "cell_type": "code",
   "execution_count": 18,
   "id": "3a6ce639",
   "metadata": {},
   "outputs": [],
   "source": [
    "target = 'item_id'\n",
    "months = 6\n",
    "postprocessing(target_item_id_lastnext, target, months, lastnext='lastnext_')"
   ]
  },
  {
   "cell_type": "markdown",
   "id": "3311402d-286f-4836-b8c1-e0eef9133a92",
   "metadata": {},
   "source": [
    "### Таргет - category_id  по id_check_unic"
   ]
  },
  {
   "cell_type": "code",
   "execution_count": 19,
   "id": "2e3cf55e-ac29-4494-933c-656e7ab646e5",
   "metadata": {
    "tags": []
   },
   "outputs": [],
   "source": [
    "target_category_id = test[['id', 'id_check_unique', 'purch_date', 'channel', 'category']].merge(rule2_6m[rule2_6m.lift>3][['antecedents', 'consequents', 'lift']], \n",
    "                                                                                                how='left', left_on='category', right_on='antecedents')\n",
    "target_category_id = target_category_id[['id', 'purch_date', 'category', 'consequents', 'lift']]\n",
    "target_category_id.columns =  ['id', 'purch_date', 'item', 'item_next', 'score']\n",
    "\n",
    "target_category_id = target_category_id.groupby(['id', 'purch_date', 'item_next']).score.max().reset_index()\n",
    "target_category_id = test[['id', 'purch_date']].drop_duplicates().merge(target_category_id, how='left', on=['id', 'purch_date'])"
   ]
  },
  {
   "cell_type": "code",
   "execution_count": 20,
   "id": "fa8dd416",
   "metadata": {},
   "outputs": [],
   "source": [
    "target = 'category_id'\n",
    "months = 6\n",
    "postprocessing(target_category_id, target, months)"
   ]
  },
  {
   "cell_type": "markdown",
   "id": "8de38a54-1fc9-4b37-a54d-fd2c7a95d3db",
   "metadata": {},
   "source": [
    "### Таргет - category_id по id_check_unic_lastnext"
   ]
  },
  {
   "cell_type": "code",
   "execution_count": 21,
   "id": "7b830812-717a-44d9-b5de-c8d4d5ce07a6",
   "metadata": {
    "tags": []
   },
   "outputs": [],
   "source": [
    "target_category_id_lastnext = test[['id', 'id_check_unique', 'purch_date', 'channel', 'category']].merge(rule4_6m[rule4_6m.lift>3][['antecedents', 'consequents', 'lift']], \n",
    "                                                                                                         how='left', left_on='category', right_on='antecedents')\n",
    "target_category_id_lastnext = target_category_id_lastnext[['id', 'purch_date',  'category', 'consequents', 'lift']]\n",
    "target_category_id_lastnext.columns = ['id', 'purch_date', 'item',  'item_next', 'score']\n",
    "\n",
    "target_category_id_lastnext = target_category_id_lastnext.groupby(['id', 'purch_date', 'item_next']).score.max().reset_index()\n",
    "target_category_id_lastnext = test[['id', 'purch_date']].drop_duplicates().merge(target_category_id_lastnext, how='left', on=['id', 'purch_date'])"
   ]
  },
  {
   "cell_type": "code",
   "execution_count": null,
   "id": "6f9a4f8a",
   "metadata": {},
   "outputs": [],
   "source": [
    "target = 'category_id'\n",
    "months = 6\n",
    "postprocessing(target_category_id_lastnext, target, months, lastnext='lastnext_')"
   ]
  }
 ],
 "metadata": {
  "kernelspec": {
   "display_name": "Python 3 (ipykernel)",
   "language": "python",
   "name": "python3"
  },
  "language_info": {
   "codemirror_mode": {
    "name": "ipython",
    "version": 3
   },
   "file_extension": ".py",
   "mimetype": "text/x-python",
   "name": "python",
   "nbconvert_exporter": "python",
   "pygments_lexer": "ipython3",
   "version": "3.8.10"
  }
 },
 "nbformat": 4,
 "nbformat_minor": 5
}
