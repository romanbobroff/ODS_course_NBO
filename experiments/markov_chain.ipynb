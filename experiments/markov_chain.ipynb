{
 "cells": [
  {
   "cell_type": "code",
   "execution_count": 1,
   "metadata": {},
   "outputs": [],
   "source": [
    "%load_ext autoreload\n",
    "%autoreload 2\n",
    "\n",
    "import pandas as pd\n",
    "\n",
    "from lib.pipelines import markov_pipeline\n",
    "\n",
    "pd.set_option('display.max_columns', 100)"
   ]
  },
  {
   "attachments": {},
   "cell_type": "markdown",
   "metadata": {},
   "source": [
    "## Таргет - item_id"
   ]
  },
  {
   "attachments": {},
   "cell_type": "markdown",
   "metadata": {},
   "source": [
    "### 2 months"
   ]
  },
  {
   "cell_type": "code",
   "execution_count": 4,
   "metadata": {},
   "outputs": [
    {
     "name": "stderr",
     "output_type": "stream",
     "text": [
      "/home/lrmironova/nbo/markov_chain.py:45: SettingWithCopyWarning: \n",
      "A value is trying to be set on a copy of a slice from a DataFrame.\n",
      "Try using .loc[row_indexer,col_indexer] = value instead\n",
      "\n",
      "See the caveats in the documentation: https://pandas.pydata.org/pandas-docs/stable/user_guide/indexing.html#returning-a-view-versus-a-copy\n",
      "  events['date_rnk'] = events.groupby('user_id')['purch_date'].rank(ascending=True)\n",
      "/home/lrmironova/nbo/markov_chain.py:34: RuntimeWarning: invalid value encountered in true_divide\n",
      "  self.observed_p_matrix = np.nan_to_num(self.observed_matrix / obs_row_totals[:, None])\n"
     ]
    },
    {
     "name": "stdout",
     "output_type": "stream",
     "text": [
      "{'recall@1': 0.004369476646918732, 'recall@1_users': 0.004455550145555601, 'users_hitted@1': 0.012879283999126828, 'recall@5': 0.05238451394492885, 'recall@5_users': 0.05026217657655093, 'users_hitted@5': 0.1037328094302554, 'recall@10': 0.11688350030507608, 'recall@10_users': 0.10622829746459085, 'users_hitted@10': 0.20488976206068543, 'recall@20': 0.1986996542471182, 'recall@20_users': 0.18246034212707582, 'users_hitted@20': 0.3337699192316088}\n",
      "{'MAE': Timedelta('82 days 20:16:09.853161522')}\n"
     ]
    }
   ],
   "source": [
    "predicted, durs = markov_pipeline(k_top=50, target='item_id', test_months=2) # 9 min"
   ]
  },
  {
   "cell_type": "code",
   "execution_count": 3,
   "metadata": {},
   "outputs": [
    {
     "name": "stderr",
     "output_type": "stream",
     "text": [
      "/home/lrmironova/nbo/models/markov_chain.py:45: SettingWithCopyWarning: \n",
      "A value is trying to be set on a copy of a slice from a DataFrame.\n",
      "Try using .loc[row_indexer,col_indexer] = value instead\n",
      "\n",
      "See the caveats in the documentation: https://pandas.pydata.org/pandas-docs/stable/user_guide/indexing.html#returning-a-view-versus-a-copy\n",
      "  events['date_rnk'] = events.groupby('user_id')['purch_date'].rank(ascending=True)\n",
      "/home/lrmironova/nbo/models/markov_chain.py:34: RuntimeWarning: invalid value encountered in true_divide\n",
      "  self.observed_p_matrix = np.nan_to_num(self.observed_matrix / obs_row_totals[:, None])\n"
     ]
    },
    {
     "name": "stdout",
     "output_type": "stream",
     "text": [
      "{'recall@1': 0.00427409255273787, 'recall@1_users': 0.0043786889957211665, 'users_hitted@1': 0.01082651175072617, 'recall@5': 0.0509768634942805, 'recall@5_users': 0.048960447521900256, 'users_hitted@5': 0.10003520816829505, 'recall@10': 0.11143529601364487, 'recall@10_users': 0.1063562697585939, 'users_hitted@10': 0.2042953965319954, 'recall@20': 0.18916468854187302, 'recall@20_users': 0.1802226565371779, 'users_hitted@20': 0.3328492210192765}\n",
      "{'MAE': Timedelta('83 days 13:15:50.447090082')}\n"
     ]
    }
   ],
   "source": [
    "predicted, durs = markov_pipeline(k_top=50, target='item_id', test_months=2, shrink=False) # 9 min"
   ]
  },
  {
   "attachments": {},
   "cell_type": "markdown",
   "metadata": {},
   "source": [
    "### 6 months"
   ]
  },
  {
   "cell_type": "code",
   "execution_count": 5,
   "metadata": {},
   "outputs": [
    {
     "name": "stderr",
     "output_type": "stream",
     "text": [
      "/home/lrmironova/nbo/markov_chain.py:45: SettingWithCopyWarning: \n",
      "A value is trying to be set on a copy of a slice from a DataFrame.\n",
      "Try using .loc[row_indexer,col_indexer] = value instead\n",
      "\n",
      "See the caveats in the documentation: https://pandas.pydata.org/pandas-docs/stable/user_guide/indexing.html#returning-a-view-versus-a-copy\n",
      "  events['date_rnk'] = events.groupby('user_id')['purch_date'].rank(ascending=True)\n",
      "/home/lrmironova/nbo/markov_chain.py:34: RuntimeWarning: invalid value encountered in true_divide\n",
      "  self.observed_p_matrix = np.nan_to_num(self.observed_matrix / obs_row_totals[:, None])\n"
     ]
    },
    {
     "name": "stdout",
     "output_type": "stream",
     "text": [
      "{'recall@1': 0.0053026266197054965, 'recall@1_users': 0.004537954901599635, 'users_hitted@1': 0.013370943739866291, 'recall@5': 0.06259503788518773, 'recall@5_users': 0.049900305171148844, 'users_hitted@5': 0.11169846522888302, 'recall@10': 0.12453266270702555, 'recall@10_users': 0.1016912119402887, 'users_hitted@10': 0.2105812584678942, 'recall@20': 0.1981066070554393, 'recall@20_users': 0.16176759239035857, 'users_hitted@20': 0.31528329964684715}\n",
      "{'MAE': Timedelta('147 days 06:57:33.178628502')}\n"
     ]
    }
   ],
   "source": [
    "predicted, durs = markov_pipeline(k_top=50, target='item_id', test_months=6) # 11 min"
   ]
  },
  {
   "cell_type": "code",
   "execution_count": 4,
   "metadata": {},
   "outputs": [
    {
     "name": "stderr",
     "output_type": "stream",
     "text": [
      "/home/lrmironova/nbo/models/markov_chain.py:45: SettingWithCopyWarning: \n",
      "A value is trying to be set on a copy of a slice from a DataFrame.\n",
      "Try using .loc[row_indexer,col_indexer] = value instead\n",
      "\n",
      "See the caveats in the documentation: https://pandas.pydata.org/pandas-docs/stable/user_guide/indexing.html#returning-a-view-versus-a-copy\n",
      "  events['date_rnk'] = events.groupby('user_id')['purch_date'].rank(ascending=True)\n",
      "/home/lrmironova/nbo/models/markov_chain.py:34: RuntimeWarning: invalid value encountered in true_divide\n",
      "  self.observed_p_matrix = np.nan_to_num(self.observed_matrix / obs_row_totals[:, None])\n"
     ]
    },
    {
     "name": "stdout",
     "output_type": "stream",
     "text": [
      "{'recall@1': 0.005452641102296193, 'recall@1_users': 0.004327262004343695, 'users_hitted@1': 0.013562266167824693, 'recall@5': 0.06570598430126008, 'recall@5_users': 0.05206663690988316, 'users_hitted@5': 0.1164929627650098, 'recall@10': 0.13109122500826745, 'recall@10_users': 0.10441664824409697, 'users_hitted@10': 0.21750846249777303, 'recall@20': 0.20592734162179022, 'recall@20_users': 0.164089421191319, 'users_hitted@20': 0.3199492250133618}\n",
      "{'MAE': Timedelta('146 days 03:31:20.250853124')}\n"
     ]
    }
   ],
   "source": [
    "predicted, durs = markov_pipeline(k_top=50, target='item_id', test_months=6, shrink=False) # 9 min"
   ]
  },
  {
   "cell_type": "markdown",
   "metadata": {},
   "source": [
    "## Таргет - category_id"
   ]
  },
  {
   "attachments": {},
   "cell_type": "markdown",
   "metadata": {},
   "source": [
    "### 2 months"
   ]
  },
  {
   "cell_type": "code",
   "execution_count": 6,
   "metadata": {},
   "outputs": [
    {
     "name": "stderr",
     "output_type": "stream",
     "text": [
      "/home/lrmironova/nbo/markov_chain.py:45: SettingWithCopyWarning: \n",
      "A value is trying to be set on a copy of a slice from a DataFrame.\n",
      "Try using .loc[row_indexer,col_indexer] = value instead\n",
      "\n",
      "See the caveats in the documentation: https://pandas.pydata.org/pandas-docs/stable/user_guide/indexing.html#returning-a-view-versus-a-copy\n",
      "  events['date_rnk'] = events.groupby('user_id')['purch_date'].rank(ascending=True)\n",
      "/home/lrmironova/nbo/markov_chain.py:34: RuntimeWarning: invalid value encountered in true_divide\n",
      "  self.observed_p_matrix = np.nan_to_num(self.observed_matrix / obs_row_totals[:, None])\n"
     ]
    },
    {
     "name": "stdout",
     "output_type": "stream",
     "text": [
      "{'recall@1': 0.011806115955150537, 'recall@1_users': 0.014128593547051562, 'users_hitted@1': 0.08805937568216547, 'recall@5': 0.043166624021624314, 'recall@5_users': 0.043008205778815596, 'users_hitted@5': 0.2308229644182493, 'recall@10': 0.0747698807907047, 'recall@10_users': 0.07062135907825996, 'users_hitted@10': 0.318664047151277, 'recall@20': 0.13018219274246987, 'recall@20_users': 0.11755306427898912, 'users_hitted@20': 0.421567343374809}\n",
      "{'MAE': Timedelta('86 days 18:12:26.963246155')}\n"
     ]
    }
   ],
   "source": [
    "predicted, durs = markov_pipeline(k_top=50, target='category_id', test_months=2) # 7 min"
   ]
  },
  {
   "cell_type": "code",
   "execution_count": 5,
   "metadata": {},
   "outputs": [
    {
     "name": "stderr",
     "output_type": "stream",
     "text": [
      "/home/lrmironova/nbo/models/markov_chain.py:45: SettingWithCopyWarning: \n",
      "A value is trying to be set on a copy of a slice from a DataFrame.\n",
      "Try using .loc[row_indexer,col_indexer] = value instead\n",
      "\n",
      "See the caveats in the documentation: https://pandas.pydata.org/pandas-docs/stable/user_guide/indexing.html#returning-a-view-versus-a-copy\n",
      "  events['date_rnk'] = events.groupby('user_id')['purch_date'].rank(ascending=True)\n",
      "/home/lrmironova/nbo/models/markov_chain.py:34: RuntimeWarning: invalid value encountered in true_divide\n",
      "  self.observed_p_matrix = np.nan_to_num(self.observed_matrix / obs_row_totals[:, None])\n"
     ]
    },
    {
     "name": "stdout",
     "output_type": "stream",
     "text": [
      "{'recall@1': 0.011862033769695912, 'recall@1_users': 0.014464232294229199, 'users_hitted@1': 0.08806443094797993, 'recall@5': 0.042559620737239, 'recall@5_users': 0.04352000358124085, 'users_hitted@5': 0.2286770530763137, 'recall@10': 0.07659791633791184, 'recall@10_users': 0.07180878458607869, 'users_hitted@10': 0.32070240295748614, 'recall@20': 0.1305528788850427, 'recall@20_users': 0.11688873353205005, 'users_hitted@20': 0.41954933544582346}\n",
      "{'MAE': Timedelta('87 days 12:05:24.028931155')}\n"
     ]
    }
   ],
   "source": [
    "predicted, durs = markov_pipeline(k_top=50, target='category_id', test_months=2, shrink=False) # 9 min"
   ]
  },
  {
   "attachments": {},
   "cell_type": "markdown",
   "metadata": {},
   "source": [
    "### 6 months"
   ]
  },
  {
   "cell_type": "code",
   "execution_count": 7,
   "metadata": {},
   "outputs": [
    {
     "name": "stderr",
     "output_type": "stream",
     "text": [
      "/home/lrmironova/nbo/markov_chain.py:45: SettingWithCopyWarning: \n",
      "A value is trying to be set on a copy of a slice from a DataFrame.\n",
      "Try using .loc[row_indexer,col_indexer] = value instead\n",
      "\n",
      "See the caveats in the documentation: https://pandas.pydata.org/pandas-docs/stable/user_guide/indexing.html#returning-a-view-versus-a-copy\n",
      "  events['date_rnk'] = events.groupby('user_id')['purch_date'].rank(ascending=True)\n",
      "/home/lrmironova/nbo/markov_chain.py:34: RuntimeWarning: invalid value encountered in true_divide\n",
      "  self.observed_p_matrix = np.nan_to_num(self.observed_matrix / obs_row_totals[:, None])\n"
     ]
    },
    {
     "name": "stdout",
     "output_type": "stream",
     "text": [
      "{'recall@1': 0.0083156795723241, 'recall@1_users': 0.007907301628362806, 'users_hitted@1': 0.08346844945916532, 'recall@5': 0.03823609685091561, 'recall@5_users': 0.031829926330507526, 'users_hitted@5': 0.22388556959776115, 'recall@10': 0.0699132258078491, 'recall@10_users': 0.055953552266276914, 'users_hitted@10': 0.3050218777069498, 'recall@20': 0.12136906541205827, 'recall@20_users': 0.0941832320601162, 'users_hitted@20': 0.383603935766164}\n",
      "{'MAE': Timedelta('150 days 08:38:38.208940740')}\n"
     ]
    }
   ],
   "source": [
    "predicted, durs = markov_pipeline(k_top=50, target='category_id', test_months=6) # 5.5 min"
   ]
  },
  {
   "cell_type": "code",
   "execution_count": 6,
   "metadata": {},
   "outputs": [
    {
     "name": "stderr",
     "output_type": "stream",
     "text": [
      "/home/lrmironova/nbo/models/markov_chain.py:45: SettingWithCopyWarning: \n",
      "A value is trying to be set on a copy of a slice from a DataFrame.\n",
      "Try using .loc[row_indexer,col_indexer] = value instead\n",
      "\n",
      "See the caveats in the documentation: https://pandas.pydata.org/pandas-docs/stable/user_guide/indexing.html#returning-a-view-versus-a-copy\n",
      "  events['date_rnk'] = events.groupby('user_id')['purch_date'].rank(ascending=True)\n",
      "/home/lrmironova/nbo/models/markov_chain.py:34: RuntimeWarning: invalid value encountered in true_divide\n",
      "  self.observed_p_matrix = np.nan_to_num(self.observed_matrix / obs_row_totals[:, None])\n"
     ]
    },
    {
     "name": "stdout",
     "output_type": "stream",
     "text": [
      "{'recall@1': 0.008601458387942695, 'recall@1_users': 0.007652887738139189, 'users_hitted@1': 0.08172991270265455, 'recall@5': 0.03829457312898649, 'recall@5_users': 0.03103250734924056, 'users_hitted@5': 0.22220737573490112, 'recall@10': 0.06928725243295077, 'recall@10_users': 0.055358649066608485, 'users_hitted@10': 0.30293515054338144, 'recall@20': 0.11928233067779757, 'recall@20_users': 0.09351352648278573, 'users_hitted@20': 0.38406378050953144}\n",
      "{'MAE': Timedelta('150 days 16:19:17.988239090')}\n"
     ]
    }
   ],
   "source": [
    "predicted, durs = markov_pipeline(k_top=50, target='category_id', test_months=6, shrink=False) # 9 min"
   ]
  }
 ],
 "metadata": {
  "kernelspec": {
   "display_name": ".venv",
   "language": "python",
   "name": "python3"
  },
  "language_info": {
   "codemirror_mode": {
    "name": "ipython",
    "version": 3
   },
   "file_extension": ".py",
   "mimetype": "text/x-python",
   "name": "python",
   "nbconvert_exporter": "python",
   "pygments_lexer": "ipython3",
   "version": "3.8.10"
  },
  "orig_nbformat": 4
 },
 "nbformat": 4,
 "nbformat_minor": 2
}
