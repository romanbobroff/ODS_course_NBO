{
 "cells": [
  {
   "cell_type": "code",
   "execution_count": 1,
   "metadata": {},
   "outputs": [],
   "source": [
    "%load_ext autoreload\n",
    "%autoreload 2\n",
    "\n",
    "import pandas as pd\n",
    "import warnings\n",
    "\n",
    "from lib.pipelines import collab_pipeline\n",
    "\n",
    "warnings.filterwarnings(\"ignore\")\n",
    "pd.set_option('display.max_columns', 100)"
   ]
  },
  {
   "cell_type": "markdown",
   "metadata": {},
   "source": [
    "## Таргет - item_id"
   ]
  },
  {
   "attachments": {},
   "cell_type": "markdown",
   "metadata": {},
   "source": [
    "### 2 months"
   ]
  },
  {
   "cell_type": "code",
   "execution_count": 7,
   "metadata": {},
   "outputs": [
    {
     "name": "stdout",
     "output_type": "stream",
     "text": [
      "{'recall@1': 0.006983712078973833, 'recall@5': 0.018679016767909295, 'recall@10': 0.026707643211061866, 'recall@20': 0.03729350317623011}\n",
      "{'MAE': Timedelta('78 days 06:13:29.018595586')}\n",
      "CPU times: user 1min 15s, sys: 10.7 s, total: 1min 25s\n",
      "Wall time: 1min 13s\n"
     ]
    }
   ],
   "source": [
    "%%time\n",
    "predicted, durs = collab_pipeline(k_top=50, target='item_id', model_name='tfidf', test_months=2)"
   ]
  },
  {
   "cell_type": "code",
   "execution_count": 9,
   "metadata": {},
   "outputs": [
    {
     "name": "stdout",
     "output_type": "stream",
     "text": [
      "{'recall@1': 0.006539832329996938, 'recall@5': 0.01670276020492628, 'recall@10': 0.024089110042406377, 'recall@20': 0.03320416441038049}\n",
      "{'MAE': Timedelta('77 days 21:22:08.606436857')}\n",
      "CPU times: user 1min 13s, sys: 10.2 s, total: 1min 23s\n",
      "Wall time: 1min 10s\n"
     ]
    }
   ],
   "source": [
    "%%time\n",
    "predicted, durs = collab_pipeline(k_top=50, target='item_id', model_name='bm25', test_months=2)"
   ]
  },
  {
   "cell_type": "code",
   "execution_count": 10,
   "metadata": {},
   "outputs": [
    {
     "name": "stdout",
     "output_type": "stream",
     "text": [
      "{'recall@1': 0.007197878884606339, 'recall@5': 0.017878622032876285, 'recall@10': 0.0246082056328666, 'recall@20': 0.033958830244659975}\n",
      "{'MAE': Timedelta('76 days 23:23:08.518857266')}\n",
      "CPU times: user 1min 14s, sys: 10.5 s, total: 1min 24s\n",
      "Wall time: 1min 12s\n"
     ]
    }
   ],
   "source": [
    "%%time\n",
    "predicted, durs = collab_pipeline(k_top=50, target='item_id', model_name='cosine', test_months=2)"
   ]
  },
  {
   "attachments": {},
   "cell_type": "markdown",
   "metadata": {},
   "source": [
    "### 6 months"
   ]
  },
  {
   "cell_type": "code",
   "execution_count": 11,
   "metadata": {},
   "outputs": [
    {
     "name": "stdout",
     "output_type": "stream",
     "text": [
      "{'recall@1': 0.004272681476581786, 'recall@5': 0.011592844967787461, 'recall@10': 0.016970967723949168, 'recall@20': 0.024281546936980865}\n",
      "{'MAE': Timedelta('138 days 19:12:28.548176322')}\n",
      "CPU times: user 1min 9s, sys: 11.4 s, total: 1min 21s\n",
      "Wall time: 1min 10s\n"
     ]
    }
   ],
   "source": [
    "%%time\n",
    "predicted, durs = collab_pipeline(k_top=50, target='item_id', model_name='tfidf', test_months=6)"
   ]
  },
  {
   "cell_type": "code",
   "execution_count": 12,
   "metadata": {},
   "outputs": [
    {
     "name": "stdout",
     "output_type": "stream",
     "text": [
      "{'recall@1': 0.003746752804766051, 'recall@5': 0.010041563152648548, 'recall@10': 0.01441007932931331, 'recall@20': 0.020587184604475617}\n",
      "{'MAE': Timedelta('142 days 04:45:00.025734138')}\n",
      "CPU times: user 1min 10s, sys: 11.3 s, total: 1min 21s\n",
      "Wall time: 1min 10s\n"
     ]
    }
   ],
   "source": [
    "%%time\n",
    "predicted, durs = collab_pipeline(k_top=50, target='item_id', model_name='bm25', test_months=6)"
   ]
  },
  {
   "cell_type": "code",
   "execution_count": 2,
   "metadata": {},
   "outputs": [
    {
     "name": "stdout",
     "output_type": "stream",
     "text": [
      "{'recall@1': 0.004252299013442336, 'recall@5': 0.0110520370240936, 'recall@10': 0.015590432828667997, 'recall@20': 0.022140438990907264}\n",
      "{'MAE': Timedelta('138 days 00:28:15.212026320')}\n"
     ]
    }
   ],
   "source": [
    "predicted, durs = collab_pipeline(k_top=50, target='item_id', model_name='cosine', test_months=6)"
   ]
  },
  {
   "cell_type": "markdown",
   "metadata": {},
   "source": [
    "## Таргет - category_id"
   ]
  },
  {
   "attachments": {},
   "cell_type": "markdown",
   "metadata": {},
   "source": [
    "### 2 months"
   ]
  },
  {
   "cell_type": "code",
   "execution_count": 13,
   "metadata": {},
   "outputs": [
    {
     "name": "stdout",
     "output_type": "stream",
     "text": [
      "{'recall@1': 0.029010171342379557, 'recall@5': 0.08206006204682455, 'recall@10': 0.12432455219267047, 'recall@20': 0.1821380719761652}\n",
      "{'MAE': Timedelta('85 days 16:06:00.177666114')}\n",
      "CPU times: user 1min 4s, sys: 9.38 s, total: 1min 13s\n",
      "Wall time: 1min 12s\n"
     ]
    }
   ],
   "source": [
    "%%time\n",
    "predicted, durs = collab_pipeline(k_top=50, target='category_id', model_name='tfidf', test_months=2)"
   ]
  },
  {
   "cell_type": "code",
   "execution_count": 14,
   "metadata": {},
   "outputs": [
    {
     "name": "stdout",
     "output_type": "stream",
     "text": [
      "{'recall@1': 0.031513196142105425, 'recall@5': 0.08942740459100194, 'recall@10': 0.13269096317783155, 'recall@20': 0.19370235836706162}\n",
      "{'MAE': Timedelta('85 days 15:10:16.457711889')}\n",
      "CPU times: user 1min 16s, sys: 11.7 s, total: 1min 28s\n",
      "Wall time: 1min 26s\n"
     ]
    }
   ],
   "source": [
    "%%time\n",
    "predicted, durs = collab_pipeline(k_top=50, target='category_id', model_name='bm25', test_months=2)"
   ]
  },
  {
   "cell_type": "code",
   "execution_count": 15,
   "metadata": {},
   "outputs": [
    {
     "name": "stdout",
     "output_type": "stream",
     "text": [
      "{'recall@1': 0.026000876362821904, 'recall@5': 0.07194845340223417, 'recall@10': 0.10853600216852692, 'recall@20': 0.16707721684767365}\n",
      "{'MAE': Timedelta('85 days 16:49:30.090817356')}\n",
      "CPU times: user 1min 17s, sys: 10.9 s, total: 1min 28s\n",
      "Wall time: 1min 26s\n"
     ]
    }
   ],
   "source": [
    "%%time\n",
    "predicted, durs = collab_pipeline(k_top=50, target='category_id', model_name='cosine', test_months=2)"
   ]
  },
  {
   "attachments": {},
   "cell_type": "markdown",
   "metadata": {},
   "source": [
    "### 6 months"
   ]
  },
  {
   "cell_type": "code",
   "execution_count": 16,
   "metadata": {},
   "outputs": [
    {
     "name": "stdout",
     "output_type": "stream",
     "text": [
      "{'recall@1': 0.02270874532856474, 'recall@5': 0.06414666749790826, 'recall@10': 0.09652422327493951, 'recall@20': 0.14301528918166162}\n",
      "{'MAE': Timedelta('149 days 13:42:23.159909758')}\n",
      "CPU times: user 1min 5s, sys: 11.3 s, total: 1min 16s\n",
      "Wall time: 1min 15s\n"
     ]
    }
   ],
   "source": [
    "%%time\n",
    "predicted, durs = collab_pipeline(k_top=50, target='category_id', model_name='tfidf', test_months=6)"
   ]
  },
  {
   "cell_type": "code",
   "execution_count": 17,
   "metadata": {},
   "outputs": [
    {
     "name": "stdout",
     "output_type": "stream",
     "text": [
      "{'recall@1': 0.024359796240001102, 'recall@5': 0.0687857276842745, 'recall@10': 0.10258838373619106, 'recall@20': 0.15135924024345607}\n",
      "{'MAE': Timedelta('149 days 18:01:29.407337724')}\n",
      "CPU times: user 59.6 s, sys: 10.9 s, total: 1min 10s\n",
      "Wall time: 1min 9s\n"
     ]
    }
   ],
   "source": [
    "%%time\n",
    "predicted, durs = collab_pipeline(k_top=50, target='category_id', model_name='bm25', test_months=6)"
   ]
  },
  {
   "cell_type": "code",
   "execution_count": 18,
   "metadata": {},
   "outputs": [
    {
     "name": "stdout",
     "output_type": "stream",
     "text": [
      "{'recall@1': 0.020795069332024293, 'recall@5': 0.05702166296361622, 'recall@10': 0.08584954140268698, 'recall@20': 0.13289216574900503}\n",
      "{'MAE': Timedelta('149 days 14:37:40.007695268')}\n",
      "CPU times: user 1min 6s, sys: 10.9 s, total: 1min 17s\n",
      "Wall time: 1min 16s\n"
     ]
    }
   ],
   "source": [
    "%%time\n",
    "predicted, durs = collab_pipeline(k_top=50, target='category_id', model_name='cosine', test_months=6)"
   ]
  }
 ],
 "metadata": {
  "kernelspec": {
   "display_name": ".venv",
   "language": "python",
   "name": "python3"
  },
  "language_info": {
   "codemirror_mode": {
    "name": "ipython",
    "version": 3
   },
   "file_extension": ".py",
   "mimetype": "text/x-python",
   "name": "python",
   "nbconvert_exporter": "python",
   "pygments_lexer": "ipython3",
   "version": "3.8.10"
  },
  "orig_nbformat": 4
 },
 "nbformat": 4,
 "nbformat_minor": 2
}
