{
 "cells": [
  {
   "cell_type": "markdown",
   "id": "3991b3f0",
   "metadata": {},
   "source": [
    "# <a id='наверх'>Обработка исходного датасета</a>"
   ]
  },
  {
   "cell_type": "markdown",
   "id": "4b068079",
   "metadata": {},
   "source": [
    "#### [1. Загрузка библиотек](#Загрузка-библиотек)\n",
    "#### [2. Загрузка датасета](#Загрузка-датасета)\n",
    "#### [3. Обработка пропусков](#Обработка-пропусков)\n",
    "#### [4. Создание фичей](#Создание-фичей)\n",
    "#### [5. Удаление клиентов ТОЛЬКО с возвратами и без покупок](#Удаление-клиентов)\n",
    "#### [6. Сохранение датасета](#Сохранение-датасета)"
   ]
  },
  {
   "cell_type": "markdown",
   "id": "357a0337",
   "metadata": {},
   "source": [
    "## <a id='Загрузка-библиотек'>Загрузка библиотек</a> \n",
    "###### [наверх](#наверх)"
   ]
  },
  {
   "cell_type": "code",
   "execution_count": 3,
   "id": "84631874",
   "metadata": {},
   "outputs": [],
   "source": [
    "import pandas as pd\n",
    "import datetime as dt\n",
    "import numpy as np\n",
    "import time\n",
    "\n",
    "import warnings\n",
    "warnings.filterwarnings(\"ignore\")\n",
    "\n",
    "pd.set_option('display.max_colwidth', None)"
   ]
  },
  {
   "cell_type": "markdown",
   "id": "df8d9aaa",
   "metadata": {},
   "source": [
    "## <a id='Загрузка-датасета'>Загрузка датасета</a>\n",
    "###### [наверх](#наверх)"
   ]
  },
  {
   "cell_type": "code",
   "execution_count": 4,
   "id": "2c951626",
   "metadata": {},
   "outputs": [
    {
     "data": {
      "text/html": [
       "<div>\n",
       "<style scoped>\n",
       "    .dataframe tbody tr th:only-of-type {\n",
       "        vertical-align: middle;\n",
       "    }\n",
       "\n",
       "    .dataframe tbody tr th {\n",
       "        vertical-align: top;\n",
       "    }\n",
       "\n",
       "    .dataframe thead th {\n",
       "        text-align: right;\n",
       "    }\n",
       "</style>\n",
       "<table border=\"1\" class=\"dataframe\">\n",
       "  <thead>\n",
       "    <tr style=\"text-align: right;\">\n",
       "      <th></th>\n",
       "      <th>id</th>\n",
       "      <th>purch_date</th>\n",
       "      <th>channel</th>\n",
       "      <th>category_name</th>\n",
       "      <th>category</th>\n",
       "      <th>description</th>\n",
       "      <th>item</th>\n",
       "      <th>price</th>\n",
       "      <th>quantity</th>\n",
       "      <th>turnover</th>\n",
       "      <th>packing_size</th>\n",
       "      <th>uom</th>\n",
       "    </tr>\n",
       "  </thead>\n",
       "  <tbody>\n",
       "    <tr>\n",
       "      <th>0</th>\n",
       "      <td>A6o1lNF4QoWbupw44vxNsw</td>\n",
       "      <td>2019-01-02</td>\n",
       "      <td>OFFLINE</td>\n",
       "      <td>[\"мешки строительные до 50 кг\", \"мешки для строительного мусора зеленые\", \"мешки для строительного мусора черные\", \"мешки для строительного мусора полипропиленовые\", \"мешки для строительного мусора пластиковые\", \"мешки строительные\", \"снижение цен на стройматериалы техническая\", \"стройматериалы\", \"строительные расходные материалы\"]</td>\n",
       "      <td>др. строит. оборуд-е</td>\n",
       "      <td>мешок для строительного мусора 70 л 55x95 см полипропилен 85 мкм зеленый</td>\n",
       "      <td>10690746</td>\n",
       "      <td>9.0</td>\n",
       "      <td>2.47</td>\n",
       "      <td>22.23</td>\n",
       "      <td>NaN</td>\n",
       "      <td>NaN</td>\n",
       "    </tr>\n",
       "    <tr>\n",
       "      <th>1</th>\n",
       "      <td>C682dS8JSpaKaYlr5nqjhQ</td>\n",
       "      <td>2019-01-02</td>\n",
       "      <td>OFFLINE</td>\n",
       "      <td>[\"удлинители сетевые\", \"удлинители и тройники\", \"удлинитель 3 м\", \"электротовары\"]</td>\n",
       "      <td>удлинители</td>\n",
       "      <td>удлинитель без заземления для маломощной техники 3 розетки 3 м цвет белый</td>\n",
       "      <td>18373471</td>\n",
       "      <td>183.0</td>\n",
       "      <td>2.47</td>\n",
       "      <td>452.01</td>\n",
       "      <td>NaN</td>\n",
       "      <td>NaN</td>\n",
       "    </tr>\n",
       "    <tr>\n",
       "      <th>2</th>\n",
       "      <td>G_tZ47JVT6ukGyuQYJyPRw</td>\n",
       "      <td>2019-01-02</td>\n",
       "      <td>OFFLINE</td>\n",
       "      <td>[\"семена цветов\", \"семена для выращивания цветов\", \"садок\", \"семена левкоя\", \"семена\"]</td>\n",
       "      <td>семена</td>\n",
       "      <td>маттиола летний вечер» бп</td>\n",
       "      <td>18580648</td>\n",
       "      <td>1.0</td>\n",
       "      <td>14.80</td>\n",
       "      <td>14.80</td>\n",
       "      <td>NaN</td>\n",
       "      <td>NaN</td>\n",
       "    </tr>\n",
       "  </tbody>\n",
       "</table>\n",
       "</div>"
      ],
      "text/plain": [
       "                       id  purch_date  channel  \\\n",
       "0  A6o1lNF4QoWbupw44vxNsw  2019-01-02  OFFLINE   \n",
       "1  C682dS8JSpaKaYlr5nqjhQ  2019-01-02  OFFLINE   \n",
       "2  G_tZ47JVT6ukGyuQYJyPRw  2019-01-02  OFFLINE   \n",
       "\n",
       "                                                                                                                                                                                                                                                                                                                                   category_name  \\\n",
       "0  [\"мешки строительные до 50 кг\", \"мешки для строительного мусора зеленые\", \"мешки для строительного мусора черные\", \"мешки для строительного мусора полипропиленовые\", \"мешки для строительного мусора пластиковые\", \"мешки строительные\", \"снижение цен на стройматериалы техническая\", \"стройматериалы\", \"строительные расходные материалы\"]   \n",
       "1                                                                                                                                                                                                                                                             [\"удлинители сетевые\", \"удлинители и тройники\", \"удлинитель 3 м\", \"электротовары\"]   \n",
       "2                                                                                                                                                                                                                                                         [\"семена цветов\", \"семена для выращивания цветов\", \"садок\", \"семена левкоя\", \"семена\"]   \n",
       "\n",
       "               category  \\\n",
       "0  др. строит. оборуд-е   \n",
       "1            удлинители   \n",
       "2                семена   \n",
       "\n",
       "                                                                 description  \\\n",
       "0   мешок для строительного мусора 70 л 55x95 см полипропилен 85 мкм зеленый   \n",
       "1  удлинитель без заземления для маломощной техники 3 розетки 3 м цвет белый   \n",
       "2                                                  маттиола летний вечер» бп   \n",
       "\n",
       "       item  price  quantity  turnover  packing_size  uom  \n",
       "0  10690746    9.0      2.47     22.23           NaN  NaN  \n",
       "1  18373471  183.0      2.47    452.01           NaN  NaN  \n",
       "2  18580648    1.0     14.80     14.80           NaN  NaN  "
      ]
     },
     "execution_count": 4,
     "metadata": {},
     "output_type": "execute_result"
    }
   ],
   "source": [
    "# Загрузим исходный датасет\n",
    "trans_df = pd.read_csv('transactions.csv')\n",
    "trans_df.head(3)"
   ]
  },
  {
   "cell_type": "code",
   "execution_count": 5,
   "id": "ccb6a221",
   "metadata": {},
   "outputs": [
    {
     "data": {
      "text/plain": [
       "Index(['id', 'purch_date', 'channel', 'category_name', 'category',\n",
       "       'description', 'item', 'price', 'quantity', 'turnover', 'packing_size',\n",
       "       'uom'],\n",
       "      dtype='object')"
      ]
     },
     "execution_count": 5,
     "metadata": {},
     "output_type": "execute_result"
    }
   ],
   "source": [
    "trans_df.columns"
   ]
  },
  {
   "cell_type": "markdown",
   "id": "11230652",
   "metadata": {},
   "source": [
    "#### Наименование колонок и их значение"
   ]
  },
  {
   "cell_type": "markdown",
   "id": "520b9c28",
   "metadata": {},
   "source": [
    "* 'id' - идентификатор клиента,\n",
    "* 'purch_date' - дата чека, \n",
    "* 'channel' - канал покупки (ONLINE, OFFLINE), \n",
    "* 'category_name' - список категорий, к которым относится товар, \n",
    "* 'category' - категория товара (в иерархии 2 снизу),\n",
    "* 'description' - наименование товара, \n",
    "* 'item' - артикул товара, \n",
    "* 'price' - цена товара, \n",
    "* 'quantity' - количество товара в чеке, \n",
    "* 'turnover' - товарооборот по линии чека (цена * количество), \n",
    "* 'packing_size' - размер упаковки товара в условных единицах измерения для данного товара,\n",
    "* 'uom' - условная (альтернативная) единица измерения товара в упаковке"
   ]
  },
  {
   "cell_type": "code",
   "execution_count": 6,
   "id": "0ac3e4f0",
   "metadata": {},
   "outputs": [
    {
     "data": {
      "text/plain": [
       "'2021-12-31'"
      ]
     },
     "execution_count": 6,
     "metadata": {},
     "output_type": "execute_result"
    }
   ],
   "source": [
    "# Максимальная дата чека в датасете\n",
    "max_purch_date_of_DF = trans_df.purch_date.max()\n",
    "max_purch_date_of_DF"
   ]
  },
  {
   "cell_type": "markdown",
   "id": "5485ba40",
   "metadata": {},
   "source": [
    "## <a id='Обработка-пропусков'>Обработка пропусков</a>\n",
    "###### [наверх](#наверх)"
   ]
  },
  {
   "cell_type": "code",
   "execution_count": 7,
   "id": "03e46958",
   "metadata": {},
   "outputs": [],
   "source": [
    "# Отработаем пропуски\n",
    "trans_df['category_name'].fillna('Unknown', inplace=True)\n",
    "trans_df['packing_size'].fillna(1, inplace=True)\n",
    "trans_df['uom'].fillna('EA', inplace=True)"
   ]
  },
  {
   "cell_type": "markdown",
   "id": "4e60a9e3",
   "metadata": {},
   "source": [
    "## <a id='Создание-фичей'>Создание фичей</a>\n",
    "###### [наверх](#наверх)"
   ]
  },
  {
   "cell_type": "code",
   "execution_count": 8,
   "id": "d36637ab",
   "metadata": {},
   "outputs": [],
   "source": [
    "# Уникальный номер чека (ИД клиента + Дата чека + Канал покупки)\n",
    "trans_df['id_check_unique'] = trans_df['id'] + trans_df['purch_date'] + trans_df['channel']\n",
    "\n",
    "# Флаг покупки 1 = покупка, 0 = возврат\n",
    "trans_df['is_purchase'] = np.where(trans_df['turnover'] > 0, 1, 0)\n",
    "\n",
    "# Цена за единицу товара\n",
    "trans_df['price_uom'] = trans_df['price'] / trans_df['packing_size']\n",
    "\n",
    "# Количество купленных единиц товара\n",
    "trans_df['quantity_uom'] = trans_df['quantity'] * trans_df['packing_size']"
   ]
  },
  {
   "cell_type": "markdown",
   "id": "7e40b59d",
   "metadata": {},
   "source": [
    "##### Создадим фичи на основании анализа изменчивости цен товаров"
   ]
  },
  {
   "cell_type": "code",
   "execution_count": 9,
   "id": "e6737370",
   "metadata": {},
   "outputs": [],
   "source": [
    "# Создадим датасет с ценами товаров, в каждый день их покупки\n",
    "price_df = trans_df[['category_name', 'item', 'purch_date', 'price']].drop_duplicates()"
   ]
  },
  {
   "cell_type": "code",
   "execution_count": 10,
   "id": "a1fb447b",
   "metadata": {},
   "outputs": [],
   "source": [
    "# Данные о категории цены на основе категорий товара\n",
    "def getParameterCategoryName(arg):\n",
    "    if (\"выгодная\" in arg)|(\"ликвидация\" in arg):\n",
    "        result = 'цена понизилась'\n",
    "    else:\n",
    "        result = 'цена без изменений'\n",
    "    return result"
   ]
  },
  {
   "cell_type": "code",
   "execution_count": 11,
   "id": "838924e6",
   "metadata": {},
   "outputs": [],
   "source": [
    "# % изменения цены\n",
    "price_df['price_%'] = (price_df['price'] / price_df.groupby('item')['price'].shift(1)).fillna(1) \n",
    "\n",
    "# фича 1, основанная на анализе % изменения цены\n",
    "price_df['price_cat1'] = np.where(price_df['price_%'] < 0.9, 'цена понизилась', 'цена без изменений') \n",
    "\n",
    "# фича 2, основанная на анализе категорий товара\n",
    "price_df['price_cat2'] = price_df['category_name'].apply(lambda x: getParameterCategoryName(x))"
   ]
  },
  {
   "cell_type": "code",
   "execution_count": 12,
   "id": "d836a7e6",
   "metadata": {},
   "outputs": [],
   "source": [
    "# Обогатим исходный датасет данными об изменчивости цен товаров\n",
    "trans_df = trans_df.merge(price_df[['item', 'purch_date', 'price', 'price_%', 'price_cat1', 'price_cat2']],\n",
    "                          on=['item', 'purch_date', 'price'], \n",
    "                          how='left')"
   ]
  },
  {
   "cell_type": "markdown",
   "id": "7c913e7e",
   "metadata": {},
   "source": [
    "##### Создадим фичи на основе даты покупки"
   ]
  },
  {
   "cell_type": "code",
   "execution_count": 13,
   "id": "7061b141",
   "metadata": {},
   "outputs": [],
   "source": [
    "# год покупки\n",
    "trans_df['purch_date_year'] = pd.to_datetime(trans_df['purch_date']).dt.year \n",
    "\n",
    "# месяц покупки\n",
    "trans_df['purch_date_month'] = pd.to_datetime(trans_df['purch_date']).dt.month \n",
    "\n",
    "# номер календарной недели покупки\n",
    "trans_df['purch_date_week'] = pd.to_datetime(trans_df['purch_date']).dt.isocalendar().week \n",
    "\n",
    "# номер дня недели покупки 1=ПН\n",
    "trans_df['purch_date_day'] = pd.to_datetime(trans_df['purch_date']).dt.isocalendar().day \n",
    "\n",
    "# будний или выходной - день покупки\n",
    "trans_df['purch_date_day_type'] = trans_df['purch_date_day'].apply(lambda x: 'будний' if x <= 4 else 'выходной') "
   ]
  },
  {
   "cell_type": "markdown",
   "id": "f0b74889",
   "metadata": {},
   "source": [
    "##### Создадим фичи на основе сезонности и объема продаж"
   ]
  },
  {
   "cell_type": "code",
   "execution_count": 14,
   "id": "636e1760",
   "metadata": {},
   "outputs": [],
   "source": [
    "# Данные о сезонности\n",
    "def getParameterSeasonQuantile(arg, Q):\n",
    "    if arg <= Q[0.25]:\n",
    "        result = 1\n",
    "    elif arg <= Q[0.5]:\n",
    "        result = 2\n",
    "    elif arg <= Q[0.75]:\n",
    "        result = 3\n",
    "    else:\n",
    "        result = 4\n",
    "    return result"
   ]
  },
  {
   "cell_type": "code",
   "execution_count": 15,
   "id": "cca0d22f",
   "metadata": {},
   "outputs": [],
   "source": [
    "# кол-во проданных штук в категории в текущем году\n",
    "trans_df['purch_quantity_category_year'] = trans_df.groupby(\n",
    "    ['category', 'purch_date_year'])['quantity'].transform(sum) \n",
    "\n",
    "# кол-во проданных штук в категории на текущей неделе\n",
    "trans_df['purch_quantity_category_week'] = trans_df.groupby(\n",
    "    ['category', 'purch_date_year', 'purch_date_week'])['quantity'].transform(sum) \n",
    "\n",
    "# сезонность, доля проданных штук в категории за неделю к году\n",
    "trans_df['purch_season_share'] = trans_df['purch_quantity_category_week'] / trans_df['purch_quantity_category_year'] \n",
    "\n",
    "# Создадим словарь со значениями долей проданных штук в разных квантилях\n",
    "purch_season_quantile = trans_df['purch_season_share'].quantile([0.25, 0.5, 0.75]).to_dict()\n",
    "\n",
    "# Фича - квартили по сезонности\n",
    "trans_df['purch_season_type'] = trans_df['purch_season_share'].apply(\n",
    "    lambda x: getParameterSeasonQuantile(x, purch_season_quantile)) "
   ]
  },
  {
   "cell_type": "markdown",
   "id": "448b89b3",
   "metadata": {},
   "source": [
    "##### Создадим фичи на основе квартиля цены"
   ]
  },
  {
   "cell_type": "code",
   "execution_count": 16,
   "id": "414b3543",
   "metadata": {},
   "outputs": [],
   "source": [
    "# Данные о ценовых квартилях\n",
    "def getParameterPriceQuantile(arg, cat, Q):\n",
    "    if arg <= Q[(cat, 0.25)]:\n",
    "        result = 1\n",
    "    elif arg <= Q[(cat, 0.5)]:\n",
    "        result = 2\n",
    "    elif arg <= Q[(cat, 0.75)]:\n",
    "        result = 3\n",
    "    else:\n",
    "        result = 4\n",
    "    return result"
   ]
  },
  {
   "cell_type": "code",
   "execution_count": 17,
   "id": "d66bfa27",
   "metadata": {},
   "outputs": [],
   "source": [
    "# Создадим словарь со значениями алтенативной цены для разных квантилей для каждой категории\n",
    "price_type_quantile = trans_df.groupby(['category'])['price_uom'].quantile([0.25, 0.5, 0.75]).to_dict()\n",
    "\n",
    "# Фича - квартили по альтернативной цене\n",
    "trans_df['price_type'] = trans_df.apply(\n",
    "    lambda x: getParameterPriceQuantile(x.price_uom, x.category, price_type_quantile), axis=1) "
   ]
  },
  {
   "cell_type": "code",
   "execution_count": 18,
   "id": "9c480af7",
   "metadata": {},
   "outputs": [],
   "source": [
    "# Посчитаем средние значения объемов продаж и цен для разных вариантов значений категорий изменчивости цен на товар\n",
    "df_Q1 = trans_df[(trans_df.price_cat1 == 'цена без изменений')\n",
    "                   & (trans_df.price_cat2 == 'цена без изменений')][[\n",
    "    'category', 'item', 'purch_date_year', 'purch_date_week', 'price_cat1', 'price_cat2', 'quantity_uom']].groupby(\n",
    "    ['category', 'purch_date_year', 'purch_date_week'], as_index=False).agg(\n",
    "    Q1 = ('quantity_uom', 'mean'))\n",
    "df_Q2 = trans_df[(trans_df.price_cat1 == 'цена понизилась')\n",
    "                   | (trans_df.price_cat2 == 'цена понизилась')][[\n",
    "    'category', 'item', 'purch_date_year', 'purch_date_week', 'price_cat1', 'price_cat2', 'quantity_uom']].groupby(\n",
    "    ['category', 'purch_date_year', 'purch_date_week'], as_index=False).agg(\n",
    "    Q2 = ('quantity_uom', 'mean'))\n",
    "df_P1 = trans_df[(trans_df.price_cat1 == 'цена без изменений')\n",
    "                   & (trans_df.price_cat2 == 'цена без изменений')][[\n",
    "    'category', 'item', 'purch_date_year', 'purch_date_week', 'price_cat1', 'price_cat2', 'price_uom']].groupby(\n",
    "    ['category', 'purch_date_year', 'purch_date_week'], as_index=False).agg(\n",
    "    P1 = ('price_uom', 'mean'))\n",
    "df_P2 = trans_df[(trans_df.price_cat1 == 'цена понизилась')\n",
    "                   | (trans_df.price_cat2 == 'цена понизилась')][[\n",
    "    'category', 'item', 'purch_date_year', 'purch_date_week', 'price_cat1', 'price_cat2', 'price_uom']].groupby(\n",
    "    ['category', 'purch_date_year', 'purch_date_week'], as_index=False).agg(\n",
    "    P2 = ('price_uom', 'mean'))"
   ]
  },
  {
   "cell_type": "code",
   "execution_count": 19,
   "id": "2d1f8930",
   "metadata": {},
   "outputs": [],
   "source": [
    "# Дополним датасет полученными значениями, объединим по ключу (категория + год продажи + неделя продажи)\n",
    "trans_df = trans_df.merge(df_Q1, on=['category', 'purch_date_year', 'purch_date_week'], how='left').merge(\n",
    "    df_Q2, on=['category', 'purch_date_year', 'purch_date_week'], how='left').merge(\n",
    "    df_P1, on=['category', 'purch_date_year', 'purch_date_week'], how='left').merge(\n",
    "    df_P2, on=['category', 'purch_date_year', 'purch_date_week'], how='left')"
   ]
  },
  {
   "cell_type": "markdown",
   "id": "3ddb49dd",
   "metadata": {},
   "source": [
    "##### Создадим фичи на основе эластичности цены"
   ]
  },
  {
   "cell_type": "code",
   "execution_count": 20,
   "id": "2345fcf0",
   "metadata": {},
   "outputs": [],
   "source": [
    "# Данные об эластичности цены\n",
    "def getParameterElasticPrice(arg):\n",
    "    if arg == 0:\n",
    "        result = 'neutral'\n",
    "    elif arg > 0 and arg <= 1:\n",
    "        result = 'non_elastic'\n",
    "    else:\n",
    "        result = 'elastic'\n",
    "    return result"
   ]
  },
  {
   "cell_type": "code",
   "execution_count": 21,
   "id": "bd5f9e46",
   "metadata": {},
   "outputs": [],
   "source": [
    "# Фича - эластичность цены\n",
    "trans_df['E'] = abs(((trans_df['Q2'] - trans_df['Q1']) / (trans_df['P2'] - trans_df['P1'])) * ((trans_df['P2'] + trans_df['P1']) / (trans_df['Q2'] + trans_df['Q1']))).fillna(0)\n",
    "trans_df['elasticity_category_week'] = trans_df['E'].apply(lambda x: getParameterElasticPrice(x))"
   ]
  },
  {
   "cell_type": "markdown",
   "id": "d35cf0fc",
   "metadata": {},
   "source": [
    "##### Создадим \"total\" и \"средние\" фичи на основе поведения клиента"
   ]
  },
  {
   "cell_type": "code",
   "execution_count": 22,
   "id": "cdedcf07",
   "metadata": {},
   "outputs": [],
   "source": [
    "# ТО по клиенту за весь период\n",
    "trans_df['ltv_turnover'] = trans_df.groupby('id')['turnover'].transform(sum) \n",
    "\n",
    "# Кол-во купленных штук по клиенту за весь период\n",
    "trans_df['ltv_quantity'] = trans_df.groupby('id')['quantity'].transform(sum) "
   ]
  },
  {
   "cell_type": "code",
   "execution_count": 23,
   "id": "d26ce007",
   "metadata": {},
   "outputs": [],
   "source": [
    "# Кол-во чеков с ПОКУПКАМИ, кол-во дней с покупками по клиенту за весь период\n",
    "ltv_check_count_group = trans_df[trans_df.is_purchase == 1].groupby(\n",
    "    'id', as_index=False).agg(\n",
    "    ltv_check_count = ('id_check_unique', 'nunique'),\n",
    "    ltv_purch_date_count = ('purch_date', 'nunique'))\n",
    "\n",
    "trans_df = trans_df.merge(ltv_check_count_group, on='id', how='left') "
   ]
  },
  {
   "cell_type": "code",
   "execution_count": 24,
   "id": "369e2413",
   "metadata": {},
   "outputs": [],
   "source": [
    "# Кол-во уникальных товаров по клиенту за весь период\n",
    "ltv_item_count_group = trans_df[trans_df.is_purchase == 1].groupby(\n",
    "    'id', as_index=False).agg(\n",
    "    ltv_item_count = ('item', 'nunique'))\n",
    "\n",
    "trans_df = trans_df.merge(ltv_item_count_group, on='id', how='left') "
   ]
  },
  {
   "cell_type": "code",
   "execution_count": 25,
   "id": "1c7c47f7",
   "metadata": {},
   "outputs": [],
   "source": [
    "# Средний чек по клиенту\n",
    "trans_df['check_av_turn'] = trans_df['ltv_turnover'] / trans_df['ltv_check_count'] \n",
    "\n",
    "# Среднее кол-во штук товара в чеке по клиенту\n",
    "trans_df['check_av_quintity'] = trans_df['ltv_quantity'] / trans_df['ltv_check_count']\n",
    "\n",
    "# Среднее кол-во уникальных артикулов в чеке по клиенту\n",
    "trans_df['check_av_item'] = trans_df['ltv_item_count'] / trans_df['ltv_check_count'] "
   ]
  },
  {
   "cell_type": "code",
   "execution_count": 26,
   "id": "bc63c76b",
   "metadata": {},
   "outputs": [],
   "source": [
    "purch_dates = trans_df.groupby(\n",
    "    'id', as_index=False).agg(\n",
    "    min_purch_date = ('purch_date', 'min'),\n",
    "    max_purch_date = ('purch_date', 'max'))\n",
    "\n",
    "trans_df = trans_df.merge(purch_dates, on='id', how='left')\n",
    "\n",
    "# среднее кол-во дней с покупками в месяц по клиентам\n",
    "trans_df['frequence_client_per_month'] = trans_df['ltv_purch_date_count'] / ((pd.to_datetime(trans_df['max_purch_date']) - pd.to_datetime(trans_df['min_purch_date'])).dt.days.astype(np.int32) + 1 / 30.5)  \n",
    "\n",
    "# Кол-во дней между первой и последней датами покупок по всему датасету\n",
    "trans_df['days_between_min_max_date'] = (pd.to_datetime(trans_df['max_purch_date']) - pd.to_datetime(trans_df['min_purch_date'])).dt.days.astype(np.int32)  \n",
    "\n",
    "# кол-во дней с момента последней даты покупки до последней даты покупок в датасете\n",
    "trans_df['recency_client'] = (pd.to_datetime(max_purch_date_of_DF) - pd.to_datetime(trans_df['max_purch_date'])).dt.days.astype(np.int32)  "
   ]
  },
  {
   "cell_type": "code",
   "execution_count": 27,
   "id": "a66bf26b",
   "metadata": {},
   "outputs": [],
   "source": [
    "# накопительное кол-во купленных штук по клиенту за весь период\n",
    "trans_df['ltv_quantity_cumul'] = trans_df.groupby('id')['quantity'].cumsum() \n",
    "\n",
    "# накопительный ТО по клиенту за весь период\n",
    "trans_df['monetary'] = trans_df.groupby('id')['turnover'].cumsum() \n",
    "\n",
    "# накопительно частота покупок по клиенту за весь период\n",
    "trans_df['frequency'] = trans_df.groupby('id')['is_purchase'].cumsum() "
   ]
  },
  {
   "cell_type": "code",
   "execution_count": 28,
   "id": "e724ce37",
   "metadata": {},
   "outputs": [],
   "source": [
    "id_recency = trans_df[trans_df.is_purchase == 1][['id', 'purch_date']].drop_duplicates()\n",
    "id_recency['prev_purch_date'] = id_recency.groupby('id')['purch_date'].shift(1).fillna(id_recency['purch_date'])\n",
    "id_recency['purch_date'] = pd.to_datetime(id_recency['purch_date'])\n",
    "id_recency['prev_purch_date'] = pd.to_datetime(id_recency['prev_purch_date'])\n",
    "id_recency['recency'] = (id_recency['purch_date'] - id_recency['prev_purch_date']).dt.days.astype(np.int32)\n",
    "\n",
    "# кол-во дней с момента последней даты покупки до текущей даты\n",
    "trans_df['purch_date'] = pd.to_datetime(trans_df['purch_date'])\n",
    "trans_df = trans_df.merge(id_recency[['id', 'purch_date', 'recency']], on=['id', 'purch_date'], how='left')  "
   ]
  },
  {
   "cell_type": "markdown",
   "id": "9d8747a0",
   "metadata": {},
   "source": [
    "##### Создадим фичи на основе эластичности клиента"
   ]
  },
  {
   "cell_type": "code",
   "execution_count": 29,
   "id": "d92b3726",
   "metadata": {},
   "outputs": [],
   "source": [
    "# Данные об эластичности клиента\n",
    "def getParameterElasticClient(pen1, pen2, pen3, X, Y, Z):\n",
    "    if pen1 >= X or pen2 >= Y or pen3 >= Z:\n",
    "        result = 'elastic'\n",
    "    else:\n",
    "        result = 'non_elastic'\n",
    "    return result"
   ]
  },
  {
   "cell_type": "code",
   "execution_count": 30,
   "id": "f391a523",
   "metadata": {},
   "outputs": [],
   "source": [
    "trans_df['penetration_price_cat1'] = trans_df[trans_df.price_cat1 == 'цена понизилась'].groupby('id')['turnover'].transform(sum) / trans_df['ltv_turnover']\n",
    "trans_df['penetration_price_cat2'] = trans_df[trans_df.price_cat2 == 'цена понизилась'].groupby('id')['turnover'].transform(sum) / trans_df['ltv_turnover']\n",
    "trans_df['penetration_price_type'] = trans_df[trans_df.price_type == 1].groupby('id')['turnover'].transform(sum) / trans_df['ltv_turnover']"
   ]
  },
  {
   "cell_type": "code",
   "execution_count": 31,
   "id": "027065ad",
   "metadata": {},
   "outputs": [],
   "source": [
    "price_cat1_median = (trans_df[trans_df.price_cat1 == 'цена понизилась'].groupby('id')['turnover'].transform(sum) / trans_df['ltv_turnover']).median()\n",
    "price_cat2_median = (trans_df[trans_df.price_cat2 == 'цена понизилась'].groupby('id')['turnover'].transform(sum) / trans_df['ltv_turnover']).median()\n",
    "price_type_median = (trans_df[trans_df.price_type == 1].groupby('id')['turnover'].transform(sum) / trans_df['ltv_turnover']).median()"
   ]
  },
  {
   "cell_type": "code",
   "execution_count": 32,
   "id": "c9bb3885",
   "metadata": {},
   "outputs": [],
   "source": [
    "trans_df['check_elastic'] = trans_df.apply(lambda x: getParameterElasticClient(\n",
    "    x.penetration_price_cat1, x.penetration_price_cat2, x.penetration_price_type, price_cat1_median, price_cat2_median, price_type_median), axis=1) "
   ]
  },
  {
   "cell_type": "code",
   "execution_count": 33,
   "id": "e2fc60c4",
   "metadata": {},
   "outputs": [],
   "source": [
    "# Фича - эластичность клиента\n",
    "trans_df['elasticity_client'] = trans_df.groupby('id')['check_elastic'].transform(min) "
   ]
  },
  {
   "cell_type": "markdown",
   "id": "529124f7",
   "metadata": {},
   "source": [
    "## <a id='Удаление-клиентов'>Удаление клиентов ТОЛЬКО с возвратами и без покупок</a>\n",
    "###### [наверх](#наверх)"
   ]
  },
  {
   "cell_type": "code",
   "execution_count": 34,
   "id": "fd75d54e",
   "metadata": {},
   "outputs": [],
   "source": [
    "# Удалим клиентов с пропусками, т.к. они только с возвратами и без покупок за всю историю\n",
    "id_for_del = trans_df[trans_df.ltv_check_count.isna()]['id'].unique()"
   ]
  },
  {
   "cell_type": "code",
   "execution_count": 35,
   "id": "a116eee1",
   "metadata": {},
   "outputs": [],
   "source": [
    "trans_df = trans_df[~(trans_df.id.isin(id_for_del))]"
   ]
  },
  {
   "cell_type": "markdown",
   "id": "c6c2a01c",
   "metadata": {},
   "source": [
    "## <a id='Сохранение-датасета'>Сохранение датасета</a>\n",
    "###### [наверх](#наверх)"
   ]
  },
  {
   "cell_type": "code",
   "execution_count": 36,
   "id": "12c6f12d",
   "metadata": {},
   "outputs": [],
   "source": [
    "trans_df[['id', 'purch_date', 'channel', 'category_name', 'category',\n",
    "          'description', 'item', 'price', 'quantity', 'turnover', 'packing_size',\n",
    "          'uom', 'id_check_unique', 'is_purchase', 'price_uom', 'quantity_uom',\n",
    "          'price_%', 'price_cat1', 'price_cat2', 'purch_date_year',\n",
    "          'purch_date_month', 'purch_date_week', 'purch_date_day',\n",
    "          'purch_date_day_type', 'purch_quantity_category_year',\n",
    "          'purch_quantity_category_week', 'purch_season_share',\n",
    "          'purch_season_type', 'price_type', 'elasticity_category_week', \n",
    "          'ltv_turnover', 'ltv_quantity', 'ltv_check_count', 'ltv_purch_date_count', \n",
    "          'ltv_item_count', 'check_av_turn', 'check_av_quintity', 'check_av_item', \n",
    "          'frequence_client_per_month', 'days_between_min_max_date', \n",
    "          'recency_client', 'ltv_quantity_cumul', \n",
    "          'monetary', 'frequency', 'recency', 'elasticity_client']].to_pickle('transaction_and_features.pkl')"
   ]
  },
  {
   "cell_type": "code",
   "execution_count": null,
   "id": "2c0dbcac",
   "metadata": {},
   "outputs": [],
   "source": []
  }
 ],
 "metadata": {
  "kernelspec": {
   "display_name": "Python 3 (ipykernel)",
   "language": "python",
   "name": "python3"
  },
  "language_info": {
   "codemirror_mode": {
    "name": "ipython",
    "version": 3
   },
   "file_extension": ".py",
   "mimetype": "text/x-python",
   "name": "python",
   "nbconvert_exporter": "python",
   "pygments_lexer": "ipython3",
   "version": "3.11.5"
  }
 },
 "nbformat": 4,
 "nbformat_minor": 5
}
